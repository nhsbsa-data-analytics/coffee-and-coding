{
  "nbformat": 4,
  "nbformat_minor": 0,
  "metadata": {
    "colab": {
      "provenance": []
    },
    "kernelspec": {
      "name": "python3",
      "display_name": "Python 3"
    },
    "language_info": {
      "name": "python"
    }
  },
  "cells": [
    {
      "cell_type": "code",
      "execution_count": null,
      "metadata": {
        "colab": {
          "base_uri": "https://localhost:8080/"
        },
        "id": "Eq_UwodZ0Ajp",
        "outputId": "8ef8d907-f422-4ba4-b2e8-4dcf91d48d48"
      },
      "outputs": [
        {
          "output_type": "stream",
          "name": "stdout",
          "text": [
            "Cloning into 'coffee-and-coding'...\n",
            "remote: Enumerating objects: 2176, done.\u001b[K\n",
            "remote: Counting objects: 100% (605/605), done.\u001b[K\n",
            "remote: Compressing objects: 100% (248/248), done.\u001b[K\n",
            "remote: Total 2176 (delta 386), reused 494 (delta 345), pack-reused 1571 (from 1)\u001b[K\n",
            "Receiving objects: 100% (2176/2176), 133.11 MiB | 19.73 MiB/s, done.\n",
            "Resolving deltas: 100% (987/987), done.\n",
            "Updating files: 100% (373/373), done.\n"
          ]
        }
      ],
      "source": [
        "!git clone https://github.com/nhsbsa-data-analytics/coffee-and-coding"
      ]
    },
    {
      "cell_type": "markdown",
      "source": [
        "# Python: Lists and dictionaries - an Introduction\n",
        "\n",
        "A lot of our Coffee and Coding sessions are focused on using R. It is a good introductory programming language that is used throughout the NHSBSA.\n",
        "\n",
        "Depending on your skill level you may already be familiar with R **Vectors** and **Lists**\n",
        "\n",
        "**Vectors** are basic data structures that contain elements of the same type.\n",
        "\n",
        "**Example R Vectors** <br> c(1, 2, 3, 4) or c('a', 'b', 'c', 'd')\n",
        "\n",
        "**Lists** are a more complicated, but versatile data structure that can contain multiple different data types.\n",
        "\n",
        "**Example R List** <br>list(<br>\n",
        "  John = list(\n",
        "    Surname = \"Smith\",<br>\n",
        "    Address = \"123 Main Street\",<br>\n",
        "    Postcode = \"AB12CD\",<br>\n",
        "    Mobile = \"01910029123\"<br>\n",
        "  )<br>)\n",
        "\n",
        "  In this Coffee and Coding session we will be exploring Python the equivalents:\n",
        "\n",
        "| R | Python |\n",
        "| :------: | :----: |\n",
        "|   Vector   | List |\n",
        "|   List   | Dictionary |\n"
      ],
      "metadata": {
        "id": "rjkiUqxu0rrS"
      }
    },
    {
      "cell_type": "markdown",
      "source": [
        "## Python Lists: Introduction\n",
        "\n",
        "A Python list is one of the most basic structures. To create a new list you can either use square brackets `[ ]`, or you can use the `list()` function.\n",
        "\n",
        "### Creating a list\n",
        "Below we will create our fist list. It will contain the numbers between 1 and 5. Remember, each element of a list is separated by a comma."
      ],
      "metadata": {
        "id": "CzHT9YuoNPSf"
      }
    },
    {
      "cell_type": "code",
      "source": [
        "my_first_list = [1, 2, 3, 4, 5]\n",
        "\n",
        "my_first_list"
      ],
      "metadata": {
        "colab": {
          "base_uri": "https://localhost:8080/"
        },
        "id": "57b5QjRk0jz6",
        "outputId": "bcde7ef4-b9d9-425a-a8d6-cf5cb0657721"
      },
      "execution_count": null,
      "outputs": [
        {
          "output_type": "execute_result",
          "data": {
            "text/plain": [
              "[1, 2, 3, 4, 5]"
            ]
          },
          "metadata": {},
          "execution_count": 2
        }
      ]
    },
    {
      "cell_type": "markdown",
      "source": [
        "### Accessing data in a list\n",
        "\n",
        "Suppose that we want to access one of the elements in our list.\n",
        "\n",
        "We can do this by selecting the element based on its index position.\n",
        "\n",
        "<font color=\"red\">**Warning:** Python is a zero indexed programming language. This means the first element has index 0 and **not** 1. This is different to R which starts its indexing from 1.</font>\n",
        "\n",
        "To select the first element from a list we can do:\n"
      ],
      "metadata": {
        "id": "fjFPlmuwOQcG"
      }
    },
    {
      "cell_type": "code",
      "source": [
        "my_first_list[0]"
      ],
      "metadata": {
        "colab": {
          "base_uri": "https://localhost:8080/"
        },
        "id": "lbwbxD2X6iz7",
        "outputId": "89d99531-5333-4e62-e275-806f3e3c5e86"
      },
      "execution_count": null,
      "outputs": [
        {
          "output_type": "execute_result",
          "data": {
            "text/plain": [
              "1"
            ]
          },
          "metadata": {},
          "execution_count": 3
        }
      ]
    },
    {
      "cell_type": "markdown",
      "source": [
        "To select the first two elements we can do:"
      ],
      "metadata": {
        "id": "1aAhjDpqPQkg"
      }
    },
    {
      "cell_type": "code",
      "source": [
        "my_first_list[0:2]"
      ],
      "metadata": {
        "colab": {
          "base_uri": "https://localhost:8080/"
        },
        "id": "Q2xRhpIN9rhN",
        "outputId": "78ad5d44-f3d1-49bb-dd61-310979a1ff6d"
      },
      "execution_count": null,
      "outputs": [
        {
          "output_type": "execute_result",
          "data": {
            "text/plain": [
              "[1, 2]"
            ]
          },
          "metadata": {},
          "execution_count": 4
        }
      ]
    },
    {
      "cell_type": "markdown",
      "source": [
        "To select the odd numbers in the list, or more specifically the numbers in odd index positions we can do:"
      ],
      "metadata": {
        "id": "JEBsljb-Pd2X"
      }
    },
    {
      "cell_type": "code",
      "source": [
        "my_first_list[0::2]"
      ],
      "metadata": {
        "colab": {
          "base_uri": "https://localhost:8080/"
        },
        "id": "doB2rJGM9voz",
        "outputId": "3a46d2b3-9c39-4593-bb46-26aa6760aa61"
      },
      "execution_count": null,
      "outputs": [
        {
          "output_type": "execute_result",
          "data": {
            "text/plain": [
              "[1, 3, 5]"
            ]
          },
          "metadata": {},
          "execution_count": 5
        }
      ]
    },
    {
      "cell_type": "markdown",
      "source": [
        "And likewise for the even numbers:\n"
      ],
      "metadata": {
        "id": "JN566amsP9go"
      }
    },
    {
      "cell_type": "code",
      "source": [
        "my_first_list[1::2]"
      ],
      "metadata": {
        "colab": {
          "base_uri": "https://localhost:8080/"
        },
        "id": "c6gAg4cw-z-M",
        "outputId": "714e93cc-f3cb-421a-bcfa-0906cf3342c5"
      },
      "execution_count": null,
      "outputs": [
        {
          "output_type": "execute_result",
          "data": {
            "text/plain": [
              "[2, 4]"
            ]
          },
          "metadata": {},
          "execution_count": 6
        }
      ]
    },
    {
      "cell_type": "markdown",
      "source": [
        "## Python Lists: Common things to do with Lists\n",
        "\n",
        "Now that we have introduced Python lists lets take a look at some common functionality.\n",
        "\n",
        "We will now create a new list, this time using letters rather than numbers."
      ],
      "metadata": {
        "id": "4wHBm3k_lQH1"
      }
    },
    {
      "cell_type": "code",
      "source": [
        "my_second_list = ['a', 'b', 'c', 'd', 'e','a','b']\n",
        "\n",
        "my_second_list"
      ],
      "metadata": {
        "colab": {
          "base_uri": "https://localhost:8080/"
        },
        "id": "2tnysssv6ukC",
        "outputId": "62314b26-a708-4cd9-914d-4675f18f2992"
      },
      "execution_count": null,
      "outputs": [
        {
          "output_type": "execute_result",
          "data": {
            "text/plain": [
              "['a', 'b', 'c', 'd', 'e', 'a', 'b']"
            ]
          },
          "metadata": {},
          "execution_count": 7
        }
      ]
    },
    {
      "cell_type": "markdown",
      "source": [
        "### Calculating the length of a list\n",
        "Something you may want to do is count how many total elements are within a list.\n",
        "\n",
        "This can easily be done using the `len()` function. Which calculates the length of the list."
      ],
      "metadata": {
        "id": "tBbj92bslj4N"
      }
    },
    {
      "cell_type": "code",
      "source": [
        "len(my_second_list)"
      ],
      "metadata": {
        "colab": {
          "base_uri": "https://localhost:8080/"
        },
        "id": "b0HLlUccl3iO",
        "outputId": "323636d7-4c2b-4b66-f629-073759f789a1"
      },
      "execution_count": null,
      "outputs": [
        {
          "output_type": "execute_result",
          "data": {
            "text/plain": [
              "7"
            ]
          },
          "metadata": {},
          "execution_count": 8
        }
      ]
    },
    {
      "cell_type": "markdown",
      "source": [
        "### Number of unique elements in a list\n",
        "\n",
        "But our list contains duplicates. How can we count the number of unique values within the list?\n",
        "\n",
        "We can use `len()` in combination with the `set()` function.\n",
        "\n",
        "A set is similar to a list with one key difference. A list can contain duplicate values, a set can only contain unique values.\n"
      ],
      "metadata": {
        "id": "OhZXz0E1l6r-"
      }
    },
    {
      "cell_type": "code",
      "source": [
        "len(set(my_second_list))"
      ],
      "metadata": {
        "colab": {
          "base_uri": "https://localhost:8080/"
        },
        "id": "IZcDGJqzmJVd",
        "outputId": "8d1445b3-7d53-4fc6-fc5e-458ab804d247"
      },
      "execution_count": null,
      "outputs": [
        {
          "output_type": "execute_result",
          "data": {
            "text/plain": [
              "5"
            ]
          },
          "metadata": {},
          "execution_count": 9
        }
      ]
    },
    {
      "cell_type": "markdown",
      "source": [
        "### Getting the count of a value\n",
        "Suppose that you want to find out how often a value appears within the list. This is simple with the `.count()` function."
      ],
      "metadata": {
        "id": "M7JJsM9mpc2v"
      }
    },
    {
      "cell_type": "code",
      "source": [
        "my_second_list.count('a')"
      ],
      "metadata": {
        "colab": {
          "base_uri": "https://localhost:8080/"
        },
        "id": "SBbDzgGJ950-",
        "outputId": "51f77c99-54cb-4ecf-ac5f-e4a620547844"
      },
      "execution_count": null,
      "outputs": [
        {
          "output_type": "execute_result",
          "data": {
            "text/plain": [
              "2"
            ]
          },
          "metadata": {},
          "execution_count": 10
        }
      ]
    },
    {
      "cell_type": "markdown",
      "source": [
        "### Finding the index of a value\n",
        "Likewise we can find the position (index) of a particular value using `index`.\n",
        "\n",
        "**This only identifies the first occurrence of the value**\n",
        "\n",
        "Later on we will explore a different way to find all occurrences of a value."
      ],
      "metadata": {
        "id": "Ta6vJHJ2pouE"
      }
    },
    {
      "cell_type": "code",
      "source": [
        "my_second_list"
      ],
      "metadata": {
        "colab": {
          "base_uri": "https://localhost:8080/"
        },
        "id": "ksstUUCwrMYP",
        "outputId": "127d4beb-d7e2-4d1d-94ae-259294e4cf4c"
      },
      "execution_count": null,
      "outputs": [
        {
          "output_type": "execute_result",
          "data": {
            "text/plain": [
              "['a', 'b', 'c', 'd', 'e', 'a', 'b']"
            ]
          },
          "metadata": {},
          "execution_count": 11
        }
      ]
    },
    {
      "cell_type": "code",
      "source": [
        "my_second_list.index('d')\n"
      ],
      "metadata": {
        "colab": {
          "base_uri": "https://localhost:8080/"
        },
        "id": "jlrO7bsZ9-6j",
        "outputId": "60a1c3b9-0e03-497f-cc1c-c9d25b48eea8"
      },
      "execution_count": null,
      "outputs": [
        {
          "output_type": "execute_result",
          "data": {
            "text/plain": [
              "3"
            ]
          },
          "metadata": {},
          "execution_count": 12
        }
      ]
    },
    {
      "cell_type": "code",
      "source": [
        "#Only the first occurrence of 'a' is returned.\n",
        "my_second_list.index('a')"
      ],
      "metadata": {
        "colab": {
          "base_uri": "https://localhost:8080/"
        },
        "id": "QSYLPwKgrO_X",
        "outputId": "de3e9ad5-1296-432c-c6e1-2ccafbd925d0"
      },
      "execution_count": null,
      "outputs": [
        {
          "output_type": "execute_result",
          "data": {
            "text/plain": [
              "0"
            ]
          },
          "metadata": {},
          "execution_count": 13
        }
      ]
    },
    {
      "cell_type": "markdown",
      "source": [
        "### Adding data to an existing list\n",
        "Once we have our list we can also add to it using the `.append()` functionality"
      ],
      "metadata": {
        "id": "1U2C71lKrTs_"
      }
    },
    {
      "cell_type": "code",
      "source": [
        "my_second_list.append('f')"
      ],
      "metadata": {
        "id": "tToO2KP--Em2"
      },
      "execution_count": null,
      "outputs": []
    },
    {
      "cell_type": "code",
      "source": [
        "my_second_list"
      ],
      "metadata": {
        "colab": {
          "base_uri": "https://localhost:8080/"
        },
        "id": "qXUsDIZLr95Q",
        "outputId": "a2aa1e84-867c-42fc-e289-2c44b7d9686b"
      },
      "execution_count": null,
      "outputs": [
        {
          "output_type": "execute_result",
          "data": {
            "text/plain": [
              "['a', 'b', 'c', 'd', 'e', 'a', 'b', 'f']"
            ]
          },
          "metadata": {},
          "execution_count": 11
        }
      ]
    },
    {
      "cell_type": "markdown",
      "source": [
        "And if we want to insert in a specific location rather at the end we can use `.insert()`"
      ],
      "metadata": {
        "id": "96zvLRfFr_R3"
      }
    },
    {
      "cell_type": "code",
      "source": [
        "my_second_list.insert(3,'z')\n",
        "my_second_list"
      ],
      "metadata": {
        "id": "-vtyxoH-eH-N",
        "colab": {
          "base_uri": "https://localhost:8080/"
        },
        "outputId": "c1bec426-690d-43d9-d6a9-2ebba287e6b6"
      },
      "execution_count": null,
      "outputs": [
        {
          "output_type": "execute_result",
          "data": {
            "text/plain": [
              "['a', 'b', 'c', 'z', 'd', 'e', 'a', 'b', 'f']"
            ]
          },
          "metadata": {},
          "execution_count": 12
        }
      ]
    },
    {
      "cell_type": "markdown",
      "source": [
        "### Changing the order of a list\n",
        "We can also reverse the order that elements appear.\n"
      ],
      "metadata": {
        "id": "v4vT3jbevxQG"
      }
    },
    {
      "cell_type": "code",
      "source": [
        "my_second_list = ['a', 'b', 'c', 'd', 'e','a','b']\n",
        "\n",
        "my_second_list.reverse()\n",
        "my_second_list"
      ],
      "metadata": {
        "colab": {
          "base_uri": "https://localhost:8080/"
        },
        "id": "EjlPX-L3v0gH",
        "outputId": "7938aa59-1037-4731-fd26-0eeed3c729e5"
      },
      "execution_count": null,
      "outputs": [
        {
          "output_type": "execute_result",
          "data": {
            "text/plain": [
              "['b', 'a', 'e', 'd', 'c', 'b', 'a']"
            ]
          },
          "metadata": {},
          "execution_count": 19
        }
      ]
    },
    {
      "cell_type": "markdown",
      "source": [
        "### Sorting\n",
        "\n",
        "Python lists are unordered structures, meaning that that can be inserted in any order you choose.\n",
        "\n",
        "However, it may be useful to sort the list for a particular task. Again there is the built in `.sort()` functionality to help with this."
      ],
      "metadata": {
        "id": "vQ_y_TSnu0WP"
      }
    },
    {
      "cell_type": "code",
      "source": [
        "my_second_list.sort()\n",
        "my_second_list"
      ],
      "metadata": {
        "colab": {
          "base_uri": "https://localhost:8080/"
        },
        "id": "O2XThfW67Jtc",
        "outputId": "79d40757-9945-4a8f-8a1a-297cbff41215"
      },
      "execution_count": null,
      "outputs": [
        {
          "output_type": "execute_result",
          "data": {
            "text/plain": [
              "['a', 'a', 'b', 'b', 'c', 'd', 'e', 'f']"
            ]
          },
          "metadata": {},
          "execution_count": 29
        }
      ]
    },
    {
      "cell_type": "markdown",
      "source": [
        "### Removing elements\n",
        "\n",
        "And finally. You may be interested in removing specific element from the list. This can be done using `.pop()`."
      ],
      "metadata": {
        "id": "MDinPGbMvM8G"
      }
    },
    {
      "cell_type": "code",
      "source": [
        "my_second_list"
      ],
      "metadata": {
        "colab": {
          "base_uri": "https://localhost:8080/"
        },
        "id": "LLtKzdTpwHjQ",
        "outputId": "c5d32f5f-e5c4-44ff-ea0c-e751e3e79788"
      },
      "execution_count": null,
      "outputs": [
        {
          "output_type": "execute_result",
          "data": {
            "text/plain": [
              "['b', 'a', 'e', 'd', 'c', 'b', 'a']"
            ]
          },
          "metadata": {},
          "execution_count": 20
        }
      ]
    },
    {
      "cell_type": "code",
      "source": [
        "my_second_list.pop()\n",
        "my_second_list"
      ],
      "metadata": {
        "colab": {
          "base_uri": "https://localhost:8080/"
        },
        "id": "aIN4UsXHwJno",
        "outputId": "3dffcf80-e9eb-40fa-bbe3-22ebeadb4c36"
      },
      "execution_count": null,
      "outputs": [
        {
          "output_type": "execute_result",
          "data": {
            "text/plain": [
              "['b', 'a', 'e', 'd', 'c', 'b']"
            ]
          },
          "metadata": {},
          "execution_count": 21
        }
      ]
    },
    {
      "cell_type": "markdown",
      "source": [
        "or we can choose a specific element to remove"
      ],
      "metadata": {
        "id": "-nFtytnYwNOA"
      }
    },
    {
      "cell_type": "code",
      "source": [
        "my_second_list.pop(2)\n",
        "my_second_list"
      ],
      "metadata": {
        "id": "1IFlpDAz7YLv",
        "colab": {
          "base_uri": "https://localhost:8080/"
        },
        "outputId": "e6a6da3b-d24c-44c4-93a7-67f5d6f9d80a"
      },
      "execution_count": null,
      "outputs": [
        {
          "output_type": "execute_result",
          "data": {
            "text/plain": [
              "['b', 'a', 'd', 'c', 'b']"
            ]
          },
          "metadata": {},
          "execution_count": 22
        }
      ]
    },
    {
      "cell_type": "markdown",
      "source": [
        "## Looping through lists: List Comprehensions\n",
        "\n",
        "Often it is useful to loop through the elements of a list.\n",
        "\n",
        "For example, if we want to apply a mathematical operator to each numeric element.\n",
        "\n",
        "Note there are simpler ways of doing this using packages, but during this session we will be using lists."
      ],
      "metadata": {
        "id": "puWLUrMQCxU2"
      }
    },
    {
      "cell_type": "code",
      "source": [
        "my_third_list = [1,2,3,4,5,6,7,8,9]\n",
        "\n",
        "my_third_list\n",
        "\n"
      ],
      "metadata": {
        "colab": {
          "base_uri": "https://localhost:8080/"
        },
        "id": "7ePGTUjECzbd",
        "outputId": "52cfa7aa-b450-4016-b923-a29f0de8240f"
      },
      "execution_count": null,
      "outputs": [
        {
          "output_type": "execute_result",
          "data": {
            "text/plain": [
              "[1, 2, 3, 4, 5, 6, 7, 8, 9]"
            ]
          },
          "metadata": {},
          "execution_count": 23
        }
      ]
    },
    {
      "cell_type": "markdown",
      "source": [
        "Suppose we want to multiply each element in our list by a factor of 2.\n",
        "\n",
        "We could do this using a typical for loop."
      ],
      "metadata": {
        "id": "JoeAN1z29o2k"
      }
    },
    {
      "cell_type": "code",
      "source": [
        "idx=0\n",
        "for value in my_third_list:\n",
        "\n",
        "  my_third_list[idx]=value*2\n",
        "  idx=idx+1\n",
        "\n",
        "my_third_list\n",
        "\n"
      ],
      "metadata": {
        "colab": {
          "base_uri": "https://localhost:8080/"
        },
        "id": "0JFWqf5qC5DN",
        "outputId": "948489f8-942b-4ed6-ef9c-35facc669ca2"
      },
      "execution_count": null,
      "outputs": [
        {
          "output_type": "execute_result",
          "data": {
            "text/plain": [
              "[2, 4, 6, 8, 10, 12, 14, 16, 18]"
            ]
          },
          "metadata": {},
          "execution_count": 20
        }
      ]
    },
    {
      "cell_type": "markdown",
      "source": [
        "### Enumerate function\n",
        "We could simplify things a little using the `enumerate()` function.\n",
        "\n",
        "In the loop the `enumerate()` function returns the index and value."
      ],
      "metadata": {
        "id": "8s8Om9HuBlji"
      }
    },
    {
      "cell_type": "code",
      "source": [
        "my_third_list = [1,2,3,4,5,6,7,8,9]\n",
        "for idx,value in enumerate(my_third_list):\n",
        "\n",
        "  my_third_list[idx]=value*2\n",
        "\n",
        "my_third_list"
      ],
      "metadata": {
        "colab": {
          "base_uri": "https://localhost:8080/"
        },
        "id": "nYf2VGA9C9G_",
        "outputId": "18424511-e833-45a0-f95a-8ff20c3aa5e3"
      },
      "execution_count": null,
      "outputs": [
        {
          "output_type": "execute_result",
          "data": {
            "text/plain": [
              "[2, 4, 6, 8, 10, 12, 14, 16, 18]"
            ]
          },
          "metadata": {},
          "execution_count": 21
        }
      ]
    },
    {
      "cell_type": "markdown",
      "source": [
        "A more pythonic way of looping through the list is to use a comprehension.\n",
        "\n",
        "A list comprehension follows a basic structure: [*expression* <font color=\"blue\">for</font> *item* <font color=\"blue\"> in</font> *iterable*]"
      ],
      "metadata": {
        "id": "Gkk4RUM2CIfK"
      }
    },
    {
      "cell_type": "code",
      "source": [
        "[value*2 for value in my_third_list]"
      ],
      "metadata": {
        "colab": {
          "base_uri": "https://localhost:8080/"
        },
        "id": "mjPe-B8dDVxt",
        "outputId": "08b1bc31-7428-4d18-d2fc-a9c01ce04c75"
      },
      "execution_count": null,
      "outputs": [
        {
          "output_type": "execute_result",
          "data": {
            "text/plain": [
              "[4, 8, 12, 16, 20, 24, 28, 32, 36]"
            ]
          },
          "metadata": {},
          "execution_count": 22
        }
      ]
    },
    {
      "cell_type": "markdown",
      "source": [
        "This is a more elegant solution to writing a full for loop.\n",
        "\n",
        "\n",
        "We can also add conditions to the comprehension: [*expression* <font color=\"blue\">for</font> *item* <font color=\"blue\"> in</font> *iterable* <font color='blue'> if </font> *condition* == True]\n",
        "\n",
        "Going back to the example where we want to find where in the list all of the `a` occur. We can do this with a list comprehension and enumerate function.\n",
        "\n"
      ],
      "metadata": {
        "id": "-_WUZw0LHBJL"
      }
    },
    {
      "cell_type": "code",
      "source": [
        "my_second_list = ['a', 'b', 'c', 'd', 'e','a','b']\n",
        "\n",
        "[i for i, value in enumerate(my_second_list) if value == 'a']"
      ],
      "metadata": {
        "colab": {
          "base_uri": "https://localhost:8080/"
        },
        "id": "OiQVnQMPjKHf",
        "outputId": "b092e179-076a-44c8-c06d-bf4fd3615c03"
      },
      "execution_count": 4,
      "outputs": [
        {
          "output_type": "execute_result",
          "data": {
            "text/plain": [
              "[0, 5]"
            ]
          },
          "metadata": {},
          "execution_count": 4
        }
      ]
    },
    {
      "cell_type": "code",
      "source": [
        "[value*2 for idx,value in enumerate(my_third_list) if idx % 2==0]"
      ],
      "metadata": {
        "colab": {
          "base_uri": "https://localhost:8080/"
        },
        "id": "4sgkp3mNEeMu",
        "outputId": "12a130f2-0179-4077-cd5a-6e6514d3b471"
      },
      "execution_count": null,
      "outputs": [
        {
          "output_type": "execute_result",
          "data": {
            "text/plain": [
              "[4, 12, 20, 28, 36]"
            ]
          },
          "metadata": {},
          "execution_count": 24
        }
      ]
    },
    {
      "cell_type": "markdown",
      "source": [
        "We can also add in an else statement. Notice this changes the comprehension structure slightly.\n"
      ],
      "metadata": {
        "id": "zJIiRiYpHWtD"
      }
    },
    {
      "cell_type": "code",
      "source": [
        "[value*2 if idx % 2==0 else value  for idx,value in enumerate(my_third_list) ]"
      ],
      "metadata": {
        "colab": {
          "base_uri": "https://localhost:8080/"
        },
        "id": "12GOfNkpEqpe",
        "outputId": "ba09b4ad-d1e1-4af5-b958-77e8bc54869d"
      },
      "execution_count": null,
      "outputs": [
        {
          "output_type": "execute_result",
          "data": {
            "text/plain": [
              "[4, 4, 12, 8, 20, 12, 28, 16, 36]"
            ]
          },
          "metadata": {},
          "execution_count": 25
        }
      ]
    },
    {
      "cell_type": "markdown",
      "source": [
        "### Zip function\n",
        "\n",
        "We can also use a list comprehension on multiple lists at the same time.\n",
        "\n",
        "This could be useful if you want to join two lists together or if you wanted to apply mathematical operators to two numeric lists.\n",
        "\n",
        "The function we will make use of is called `zip()`. When looping over a `zip()` the ith element of each list will be made available."
      ],
      "metadata": {
        "id": "v7D2X7M9orZF"
      }
    },
    {
      "cell_type": "code",
      "source": [
        "# Two separate lists\n",
        "list1 = [1, 2, 3]\n",
        "list2 = ['a', 'b', 'c']\n",
        "\n",
        "# Using list comprehension to create a list of tuples\n",
        "tuple_list = [(x, y) for x, y in zip(list1, list2)]"
      ],
      "metadata": {
        "id": "Ay5TsRENFGv-"
      },
      "execution_count": null,
      "outputs": []
    },
    {
      "cell_type": "markdown",
      "source": [
        "### When to, and when not to use list comprehensions\n",
        "List comprehensions are a great way of writing short and understandable code.\n",
        "\n",
        "But they are not always the best option.\n",
        "\n",
        "- When the task to complete is simple they are usually the best approach to take\n",
        "\n",
        "However, when the task to complete is more complicated using list comprehensions can be difficult to understand.\n",
        "\n",
        "Take the below as an exmaple:"
      ],
      "metadata": {
        "id": "svkZLH0ept0t"
      }
    },
    {
      "cell_type": "code",
      "source": [
        "list3=[[1,2,3],[4,5,6],[7,8,9]]"
      ],
      "metadata": {
        "id": "IPVRVdnxfjo9"
      },
      "execution_count": null,
      "outputs": []
    },
    {
      "cell_type": "code",
      "source": [
        "complicated_nested_lc=[[j for j in i if j%2 ==0] for i in list3]\n",
        "\n"
      ],
      "metadata": {
        "colab": {
          "base_uri": "https://localhost:8080/"
        },
        "id": "GhADau2efnwU",
        "outputId": "7dbecd99-d330-49fb-9e2f-3dfbb84a6ab6"
      },
      "execution_count": null,
      "outputs": [
        {
          "output_type": "execute_result",
          "data": {
            "text/plain": [
              "[[2], [4, 6], [8]]"
            ]
          },
          "metadata": {},
          "execution_count": 36
        }
      ]
    },
    {
      "cell_type": "markdown",
      "source": [
        "It's not overly obvious what is going on here.\n",
        "\n",
        "It is a little bit clearer when there are better labels but it is still tricky to understand.\n"
      ],
      "metadata": {
        "id": "q_J9NqersNZf"
      }
    },
    {
      "cell_type": "code",
      "source": [
        "better_labels_complicated_nested_lc=[[subelement for subelement in element if subelement%2 ==0] for element in list3]"
      ],
      "metadata": {
        "id": "R1Eo6YC9sOC3"
      },
      "execution_count": null,
      "outputs": []
    },
    {
      "cell_type": "markdown",
      "source": [
        "Instead we could use a for loop and list comprehension to try and make things a little clearer"
      ],
      "metadata": {
        "id": "sUp9Vh91n931"
      }
    },
    {
      "cell_type": "code",
      "source": [
        "list4=[]\n",
        "#loop through every sublist\n",
        "for sublist in list3:\n",
        "  #only return the even numbers from the sublist\n",
        "  list4.append([element for element in sublist if element%2 ==0])\n",
        "\n"
      ],
      "metadata": {
        "id": "ps_-3ycWg730"
      },
      "execution_count": null,
      "outputs": []
    },
    {
      "cell_type": "code",
      "source": [
        "list4"
      ],
      "metadata": {
        "colab": {
          "base_uri": "https://localhost:8080/"
        },
        "id": "PGxqDFxbhYIS",
        "outputId": "c362b93c-ba5d-45fd-c3cc-2f20ce251cb3"
      },
      "execution_count": null,
      "outputs": [
        {
          "output_type": "execute_result",
          "data": {
            "text/plain": [
              "[[2], [4, 6], [8]]"
            ]
          },
          "metadata": {},
          "execution_count": 40
        }
      ]
    },
    {
      "cell_type": "markdown",
      "source": [
        "# Dictionaries"
      ],
      "metadata": {
        "id": "iFe4wPC0j76I"
      }
    },
    {
      "cell_type": "markdown",
      "source": [
        "## Our first dictionary\n",
        "\n",
        "Lets create our first dictionary. Remember, a dictionary is a collection of keys and values.\n",
        "\n",
        "In our example we will use countries as the keys and their capital cities as the values."
      ],
      "metadata": {
        "id": "JLqkTX5jtHT0"
      }
    },
    {
      "cell_type": "code",
      "source": [
        "captial_cities={'United Kingdom':'London',\n",
        "                'France':'Paris',\n",
        "                'Germany':'Berlin'}"
      ],
      "metadata": {
        "id": "D6eMcaZyj9-k"
      },
      "execution_count": null,
      "outputs": []
    },
    {
      "cell_type": "code",
      "source": [
        "captial_cities.keys()"
      ],
      "metadata": {
        "colab": {
          "base_uri": "https://localhost:8080/"
        },
        "id": "aghoUotGk5sn",
        "outputId": "da6b4079-faac-4c34-db2d-dac6df13657f"
      },
      "execution_count": null,
      "outputs": [
        {
          "output_type": "execute_result",
          "data": {
            "text/plain": [
              "dict_keys(['United Kingdom', 'France', 'Germany'])"
            ]
          },
          "metadata": {},
          "execution_count": 42
        }
      ]
    },
    {
      "cell_type": "code",
      "source": [
        "captial_cities.values()"
      ],
      "metadata": {
        "colab": {
          "base_uri": "https://localhost:8080/"
        },
        "id": "Z9cx2wnek7ZG",
        "outputId": "5c754d35-6be6-4891-a1c3-e2f0d918dacd"
      },
      "execution_count": null,
      "outputs": [
        {
          "output_type": "execute_result",
          "data": {
            "text/plain": [
              "dict_values(['London', 'Paris', 'Berlin'])"
            ]
          },
          "metadata": {},
          "execution_count": 44
        }
      ]
    },
    {
      "cell_type": "markdown",
      "source": [
        "### Accessing values\n",
        "\n",
        "Suppose we want to access the value for a particual country. We can do it using a similar notation to lists.\n",
        "\n"
      ],
      "metadata": {
        "id": "J6tj-LX5tZpe"
      }
    },
    {
      "cell_type": "code",
      "source": [
        "captial_cities['United Kingdom']"
      ],
      "metadata": {
        "colab": {
          "base_uri": "https://localhost:8080/",
          "height": 36
        },
        "id": "ge80xeskk9jE",
        "outputId": "8f295ee4-62ce-4905-d429-5cd13e8d9b7e"
      },
      "execution_count": null,
      "outputs": [
        {
          "output_type": "execute_result",
          "data": {
            "text/plain": [
              "'London'"
            ],
            "application/vnd.google.colaboratory.intrinsic+json": {
              "type": "string"
            }
          },
          "metadata": {},
          "execution_count": 46
        }
      ]
    },
    {
      "cell_type": "code",
      "source": [
        "captial_cities['Italy']='Rome'"
      ],
      "metadata": {
        "id": "_wvkP2F2lCcU"
      },
      "execution_count": null,
      "outputs": []
    },
    {
      "cell_type": "markdown",
      "source": [
        "## A more complicated example\n",
        "\n",
        "Dictionaries are not limited to a single value. They can have multiple layers depending on the situation.\n",
        "\n",
        "Suppose we wanted to create a dictionary which mimics a simple phonebook. We want our phonebook to capture the persons:\n",
        "\n",
        "1. Name\n",
        "2. Surname\n",
        "3. Address\n",
        "4. Postcode\n",
        "5. Mobile Number\n",
        "\n",
        "We can do this using a dictionary by using the name as a key and then assign the other attributes as key value pairs within a secondary dictionary.\n",
        "\n",
        "An example of what this looks like can be seen below"
      ],
      "metadata": {
        "id": "SAsMODB2v1V2"
      }
    },
    {
      "cell_type": "code",
      "source": [
        "phonebook={'John':{'Surname':'Smith',\n",
        "                   'Address': '123 Main Street',\n",
        "                   'Postcode':'AB12CD',\n",
        "                   'Mobile':'01910029123'},\n",
        "           'Jane':{'Surname':'Smith',\n",
        "                   'Address': '123 Main Street',\n",
        "                   'Postcode':'AB12CD',\n",
        "                   'Mobile':'01234990243'},\n",
        "           'Harry':{'Surname':'Potter',\n",
        "                   'Address': '4 Privet Drive',\n",
        "                   'Postcode':'NE459RD',\n",
        "                   'Mobile':'07259201953'}}"
      ],
      "metadata": {
        "id": "S54R6bz9pncH"
      },
      "execution_count": null,
      "outputs": []
    },
    {
      "cell_type": "markdown",
      "source": [
        "### Filtering on keys\n",
        "\n",
        "Again, to access and individual we can use the `[ ]` notation."
      ],
      "metadata": {
        "id": "EXIFOALDwhta"
      }
    },
    {
      "cell_type": "code",
      "source": [
        "phonebook['Harry']"
      ],
      "metadata": {
        "colab": {
          "base_uri": "https://localhost:8080/"
        },
        "id": "aACpnFeJr1VW",
        "outputId": "67001503-c566-4555-86dd-e2bc7257356a"
      },
      "execution_count": null,
      "outputs": [
        {
          "output_type": "execute_result",
          "data": {
            "text/plain": [
              "{'Surname': 'Potter',\n",
              " 'Address': '4 Privet Drive',\n",
              " 'Postcode': 'NE459RD',\n",
              " 'Mobile': '07259201953'}"
            ]
          },
          "metadata": {},
          "execution_count": 13
        }
      ]
    },
    {
      "cell_type": "markdown",
      "source": [
        "To access specific attributes for a person we add in a second `[ ]`"
      ],
      "metadata": {
        "id": "ldGeGOd2wnZu"
      }
    },
    {
      "cell_type": "code",
      "source": [
        "phonebook['Harry']['Surname']"
      ],
      "metadata": {
        "colab": {
          "base_uri": "https://localhost:8080/",
          "height": 36
        },
        "id": "kB9QJh3mr2b1",
        "outputId": "17a259e6-2a18-40c5-dbc9-d63f539ddda8"
      },
      "execution_count": null,
      "outputs": [
        {
          "output_type": "execute_result",
          "data": {
            "text/plain": [
              "'Potter'"
            ],
            "application/vnd.google.colaboratory.intrinsic+json": {
              "type": "string"
            }
          },
          "metadata": {},
          "execution_count": 14
        }
      ]
    },
    {
      "cell_type": "markdown",
      "source": [
        "Sometimes the key may not exist. Our approach of selecting values will create an error if we try and use an unknown key."
      ],
      "metadata": {
        "id": "0FP26H9VxBg2"
      }
    },
    {
      "cell_type": "code",
      "source": [
        "#This will create an error\n",
        "phonebook['James']"
      ],
      "metadata": {
        "colab": {
          "base_uri": "https://localhost:8080/",
          "height": 158
        },
        "id": "MBChSe1ABNou",
        "outputId": "87217bbb-e89e-4e86-fe4d-0ae607c8ff87"
      },
      "execution_count": null,
      "outputs": [
        {
          "output_type": "error",
          "ename": "KeyError",
          "evalue": "'James'",
          "traceback": [
            "\u001b[0;31m---------------------------------------------------------------------------\u001b[0m",
            "\u001b[0;31mKeyError\u001b[0m                                  Traceback (most recent call last)",
            "\u001b[0;32m<ipython-input-15-196bf11285cc>\u001b[0m in \u001b[0;36m<cell line: 2>\u001b[0;34m()\u001b[0m\n\u001b[1;32m      1\u001b[0m \u001b[0;31m#This will create an error\u001b[0m\u001b[0;34m\u001b[0m\u001b[0;34m\u001b[0m\u001b[0m\n\u001b[0;32m----> 2\u001b[0;31m \u001b[0mphonebook\u001b[0m\u001b[0;34m[\u001b[0m\u001b[0;34m'James'\u001b[0m\u001b[0;34m]\u001b[0m\u001b[0;34m\u001b[0m\u001b[0;34m\u001b[0m\u001b[0m\n\u001b[0m",
            "\u001b[0;31mKeyError\u001b[0m: 'James'"
          ]
        }
      ]
    },
    {
      "cell_type": "markdown",
      "source": [
        "Sometimes we don't want an error if a key is missing. Instead we could use the `get()` functionality"
      ],
      "metadata": {
        "id": "Us8QyW4lxTLx"
      }
    },
    {
      "cell_type": "code",
      "source": [
        "phonebook.get('James')"
      ],
      "metadata": {
        "id": "KwcEutXGBQAb"
      },
      "execution_count": null,
      "outputs": []
    },
    {
      "cell_type": "markdown",
      "source": [
        "### Accessing all values for a specific attribute: List comprehensions to the rescue\n",
        "\n",
        "If we wanted to get all of the surnames in our dictionary we could use list comprehensions"
      ],
      "metadata": {
        "id": "uhmN3bXFxd-t"
      }
    },
    {
      "cell_type": "code",
      "source": [
        "[phonebook[key]['Surname'] for key in phonebook.keys()]"
      ],
      "metadata": {
        "colab": {
          "base_uri": "https://localhost:8080/"
        },
        "id": "O4PqhJFbuHfX",
        "outputId": "a99fbd29-dd1c-45d1-d106-de5f60e6685e"
      },
      "execution_count": null,
      "outputs": [
        {
          "output_type": "execute_result",
          "data": {
            "text/plain": [
              "['Smith', 'Smith', 'Potter']"
            ]
          },
          "metadata": {},
          "execution_count": 17
        }
      ]
    },
    {
      "cell_type": "markdown",
      "source": [
        "### Removing keys"
      ],
      "metadata": {
        "id": "qibX6JwbywJV"
      }
    },
    {
      "cell_type": "code",
      "source": [
        "phonebook.pop('John')"
      ],
      "metadata": {
        "colab": {
          "base_uri": "https://localhost:8080/"
        },
        "id": "9SWB-VYtBicM",
        "outputId": "976d7148-a86f-41a3-e576-7355db0f3018"
      },
      "execution_count": null,
      "outputs": [
        {
          "output_type": "execute_result",
          "data": {
            "text/plain": [
              "{'Surname': 'Smith',\n",
              " 'Address': '123 Main Street',\n",
              " 'Postcode': 'AB12CD',\n",
              " 'Mobile': '01910029123'}"
            ]
          },
          "metadata": {},
          "execution_count": 18
        }
      ]
    },
    {
      "cell_type": "code",
      "source": [
        "phonebook"
      ],
      "metadata": {
        "colab": {
          "base_uri": "https://localhost:8080/"
        },
        "id": "WtbOICToBlJD",
        "outputId": "4aa9a05c-b12c-46dc-dfa5-46835867a79a"
      },
      "execution_count": null,
      "outputs": [
        {
          "output_type": "execute_result",
          "data": {
            "text/plain": [
              "{'Jane': {'Surname': 'Smith',\n",
              "  'Address': '123 Main Street',\n",
              "  'Postcode': 'AB12CD',\n",
              "  'Mobile': '01234990243'},\n",
              " 'Harry': {'Surname': 'Potter',\n",
              "  'Address': '4 Privet Drive',\n",
              "  'Postcode': 'NE459RD',\n",
              "  'Mobile': '07259201953'}}"
            ]
          },
          "metadata": {},
          "execution_count": 19
        }
      ]
    },
    {
      "cell_type": "markdown",
      "source": [
        "### Updating information\n",
        "\n",
        "We can also easily update the values of certain keys and attributes using the `[ ]` notation."
      ],
      "metadata": {
        "id": "UOgdpg4PzARo"
      }
    },
    {
      "cell_type": "code",
      "source": [
        "phonebook['Harry']['Address']='Hogwarts'"
      ],
      "metadata": {
        "id": "1buCyo3UuPqH"
      },
      "execution_count": null,
      "outputs": []
    },
    {
      "cell_type": "code",
      "source": [
        "phonebook"
      ],
      "metadata": {
        "colab": {
          "base_uri": "https://localhost:8080/"
        },
        "id": "cEAmmPL5ugcX",
        "outputId": "8492618c-5ba2-4ad6-ca27-7fdcbfdf2a01"
      },
      "execution_count": null,
      "outputs": [
        {
          "output_type": "execute_result",
          "data": {
            "text/plain": [
              "{'Jane': {'Surname': 'Smith',\n",
              "  'Address': '123 Main Street',\n",
              "  'Postcode': 'AB12CD',\n",
              "  'Mobile': '01234990243'},\n",
              " 'Harry': {'Surname': 'Potter',\n",
              "  'Address': 'Hogwarts',\n",
              "  'Postcode': 'NE459RD',\n",
              "  'Mobile': '07259201953'}}"
            ]
          },
          "metadata": {},
          "execution_count": 21
        }
      ]
    },
    {
      "cell_type": "markdown",
      "source": [
        "We can add new keys..."
      ],
      "metadata": {
        "id": "U7keTkcNzKzg"
      }
    },
    {
      "cell_type": "code",
      "source": [
        "phonebook['Kier']={'Surname':'Starmer',\n",
        "                   'Address': '10 Downing Street',\n",
        "                   'Postcode':'SW1A 2AB',\n",
        "                   'Mobile':'011111111111'}"
      ],
      "metadata": {
        "id": "MHVzCJAyu4YX"
      },
      "execution_count": null,
      "outputs": []
    },
    {
      "cell_type": "code",
      "source": [
        "phonebook"
      ],
      "metadata": {
        "colab": {
          "base_uri": "https://localhost:8080/"
        },
        "id": "8sa9_kpwwUR2",
        "outputId": "b0d9e9ce-91b3-40de-a5ce-84ba1c68a987"
      },
      "execution_count": null,
      "outputs": [
        {
          "output_type": "execute_result",
          "data": {
            "text/plain": [
              "{'Jane': {'Surname': 'Smith',\n",
              "  'Address': '123 Main Street',\n",
              "  'Postcode': 'AB12CD',\n",
              "  'Mobile': '01234990243'},\n",
              " 'Harry': {'Surname': 'Potter',\n",
              "  'Address': 'Hogwarts',\n",
              "  'Postcode': 'NE459RD',\n",
              "  'Mobile': '07259201953'},\n",
              " 'Kier': {'Surname': 'Starmer',\n",
              "  'Address': '10 Downing Street',\n",
              "  'Postcode': 'SW1A 2AB',\n",
              "  'Mobile': '011111111111'}}"
            ]
          },
          "metadata": {},
          "execution_count": 23
        }
      ]
    },
    {
      "cell_type": "markdown",
      "source": [
        "And we can include special attributes for certain keys.\n",
        "\n",
        "**Keys do not need to share the same attributes.**"
      ],
      "metadata": {
        "id": "N62gLW7VzOG4"
      }
    },
    {
      "cell_type": "code",
      "source": [
        "phonebook['Kier']['Occupation']='Prime Minister'"
      ],
      "metadata": {
        "id": "aqmMoXcRwV3Y"
      },
      "execution_count": null,
      "outputs": []
    },
    {
      "cell_type": "code",
      "source": [
        "phonebook"
      ],
      "metadata": {
        "colab": {
          "base_uri": "https://localhost:8080/"
        },
        "id": "ncBgKLpawea3",
        "outputId": "ff168f50-5d90-4b99-fade-8c55df1896a8"
      },
      "execution_count": null,
      "outputs": [
        {
          "output_type": "execute_result",
          "data": {
            "text/plain": [
              "{'Jane': {'Surname': 'Smith',\n",
              "  'Address': '123 Main Street',\n",
              "  'Postcode': 'AB12CD',\n",
              "  'Mobile': '01234990243'},\n",
              " 'Harry': {'Surname': 'Potter',\n",
              "  'Address': 'Hogwarts',\n",
              "  'Postcode': 'NE459RD',\n",
              "  'Mobile': '07259201953'},\n",
              " 'Kier': {'Surname': 'Starmer',\n",
              "  'Address': '10 Downing Street',\n",
              "  'Postcode': 'SW1A 2AB',\n",
              "  'Mobile': '011111111111',\n",
              "  'Occupation': 'Prime Minister'}}"
            ]
          },
          "metadata": {},
          "execution_count": 25
        }
      ]
    },
    {
      "cell_type": "markdown",
      "source": [
        "And the attributes dont have to be strings. They can pretty much be any Python object.\n",
        "\n",
        "For example we could add a list"
      ],
      "metadata": {
        "id": "0qfav7pX7TTl"
      }
    },
    {
      "cell_type": "code",
      "source": [
        "phonebook['Harry']['Friends']=['Ron','Hermione']"
      ],
      "metadata": {
        "id": "DXO1IeyF7bP1"
      },
      "execution_count": null,
      "outputs": []
    },
    {
      "cell_type": "code",
      "source": [
        "phonebook"
      ],
      "metadata": {
        "colab": {
          "base_uri": "https://localhost:8080/"
        },
        "id": "V_M_GXnj7non",
        "outputId": "91d116f5-585f-4ffd-961d-5f6a73aeb327"
      },
      "execution_count": null,
      "outputs": [
        {
          "output_type": "execute_result",
          "data": {
            "text/plain": [
              "{'Jane': {'Surname': 'Smith',\n",
              "  'Address': '123 Main Street',\n",
              "  'Postcode': 'AB12CD',\n",
              "  'Mobile': '01234990243'},\n",
              " 'Harry': {'Surname': 'Potter',\n",
              "  'Address': 'Hogwarts',\n",
              "  'Postcode': 'NE459RD',\n",
              "  'Mobile': '07259201953',\n",
              "  'Friends': ['Ron', 'Hermione']},\n",
              " 'Kier': {'Surname': 'Starmer',\n",
              "  'Address': '10 Downing Street',\n",
              "  'Postcode': 'SW1A 2AB',\n",
              "  'Mobile': '011111111111',\n",
              "  'Occupation': 'Prime Minister'}}"
            ]
          },
          "metadata": {},
          "execution_count": 28
        }
      ]
    },
    {
      "cell_type": "markdown",
      "source": [
        "### Keys have to be unique\n",
        "\n",
        "It is common for people to know two or more people with the same name.\n",
        "\n",
        "What happens if we want to add a new Harry to the phonebook?"
      ],
      "metadata": {
        "id": "2eiLRQoVzrAw"
      }
    },
    {
      "cell_type": "code",
      "source": [
        "phonebook['Harry']={'Surname':'Smith',\n",
        "                   'Address': '1 Monoploy Road',\n",
        "                   'Postcode':'ACD201D',\n",
        "                   'Mobile':'098200534631'\n",
        "                   }"
      ],
      "metadata": {
        "id": "QwSRcy1xwfBn"
      },
      "execution_count": null,
      "outputs": []
    },
    {
      "cell_type": "code",
      "source": [
        "phonebook"
      ],
      "metadata": {
        "colab": {
          "base_uri": "https://localhost:8080/"
        },
        "id": "MHuL2lhLxavI",
        "outputId": "c111be2f-7be2-49db-9252-c3e9b6485153"
      },
      "execution_count": null,
      "outputs": [
        {
          "output_type": "execute_result",
          "data": {
            "text/plain": [
              "{'Jane': {'Surname': 'Smith',\n",
              "  'Address': '123 Main Street',\n",
              "  'Postcode': 'AB12CD',\n",
              "  'Mobile': '01234990243'},\n",
              " 'Harry': {'Surname': 'Smith',\n",
              "  'Address': '1 Monoploy Road',\n",
              "  'Postcode': 'ACD201D',\n",
              "  'Mobile': '098200534631'},\n",
              " 'Kier': {'Surname': 'Starmer',\n",
              "  'Address': '10 Downing Street',\n",
              "  'Postcode': 'SW1A 2AB',\n",
              "  'Mobile': '011111111111',\n",
              "  'Occupation': 'Prime Minister'}}"
            ]
          },
          "metadata": {},
          "execution_count": 30
        }
      ]
    },
    {
      "cell_type": "markdown",
      "source": [
        "The new Harry's details have been added to the dictionary but have overwritten Harry Potters details.\n",
        "\n",
        "This is because dictionary keys have to be **unique**.\n",
        "\n",
        "This is a problem for us. We can't have an incomplete phonebook.\n",
        "\n",
        "What and how could we do to fix this problem?"
      ],
      "metadata": {
        "id": "pa2tDeo3z7Mj"
      }
    },
    {
      "cell_type": "markdown",
      "source": [
        "One way of solving this is to create a unique contact ID for each entry.\n",
        "\n",
        "We could use a combination of name and surnmae but there is still a chance that this will not be unique."
      ],
      "metadata": {
        "id": "EvSrM1_nxeRa"
      }
    },
    {
      "cell_type": "code",
      "source": [
        "phonebook={'Contact1':{'Name':'John',\n",
        "                   'Surname':'Smith',\n",
        "                   'Address': '123 Main Street',\n",
        "                   'Postcode':'AB12CD',\n",
        "                   'Mobile':'01910029123'},\n",
        "           'Contact2':{'Name':'Jane',\n",
        "                   'Surname':'Smith',\n",
        "                   'Address': '123 Main Street',\n",
        "                   'Postcode':'AB12CD',\n",
        "                   'Mobile':'01234990243'},\n",
        "           'Contact3':{'Name':'Harry',\n",
        "                    'Surname':'Potter',\n",
        "                   'Address': '4 Privet Drive',\n",
        "                   'Postcode':'NE459RD',\n",
        "                   'Mobile':'07259201953'},\n",
        "           'Contact4':{'Name':'Harry',\n",
        "                    'Surname':'Smith',\n",
        "                   'Address': '1 Monoploy Road',\n",
        "                   'Postcode':'ACD201D',\n",
        "                   'Mobile':'098200534631'}}"
      ],
      "metadata": {
        "id": "ae-5XOvaxb23"
      },
      "execution_count": null,
      "outputs": []
    },
    {
      "cell_type": "markdown",
      "source": [
        "### Dictionary comprehension: Dynamically create dictionaries using lists\n",
        "\n",
        "Often times dictionaries can be good objects to store the results. It could be to store different versions of output or even output from different machine learning models.\n",
        "\n",
        "We don't want to manually create our dictionary by hand. So we can make use of dictionary comprehensions and the `zip()` function we learnt about earlier.\n",
        "\n",
        "Suppose all of our output is stored in lists. We can covert this to a dictionary object by using the following code:\n",
        "\n"
      ],
      "metadata": {
        "id": "ZgtvNrrb4ZEv"
      }
    },
    {
      "cell_type": "code",
      "source": [
        "key=['Contact1','Contact2','Contact3']\n",
        "names=['John','Jane','Harry']\n",
        "surnames=['Smith','Smith','Potter']\n",
        "addresses=['123 Main Street','123 Main Street','4 Privet Drive']\n",
        "postcodes=['AB12CD','AB12CD','NE459RD']\n",
        "\n",
        "\n",
        "\n",
        "{key:{'name':name,\n",
        "      'surname':surname,\n",
        "      'address':address,\n",
        "      'postcode':postcode\n",
        "      }\n",
        "      for key,name,surname,address,postcode in zip(key,names,surnames,addresses,postcodes)\n",
        "}"
      ],
      "metadata": {
        "colab": {
          "base_uri": "https://localhost:8080/"
        },
        "id": "sxONoajL7L9h",
        "outputId": "6f41f95a-ff45-4513-c560-60ac185bf590"
      },
      "execution_count": null,
      "outputs": [
        {
          "output_type": "execute_result",
          "data": {
            "text/plain": [
              "{'Contact1': {'name': 'John',\n",
              "  'surname': 'Smith',\n",
              "  'address': '123 Main Street',\n",
              "  'postcode': 'AB12CD'},\n",
              " 'Contact2': {'name': 'Jane',\n",
              "  'surname': 'Smith',\n",
              "  'address': '123 Main Street',\n",
              "  'postcode': 'AB12CD'},\n",
              " 'Contact3': {'name': 'Harry',\n",
              "  'surname': 'Potter',\n",
              "  'address': '4 Privet Drive',\n",
              "  'postcode': 'NE459RD'}}"
            ]
          },
          "metadata": {},
          "execution_count": 68
        }
      ]
    },
    {
      "cell_type": "markdown",
      "source": [
        "# Conculsion\n",
        "\n",
        "This has been an introduction into Python Lists and Dictionaries. It is not a comprehensive introduction as there are many different and interesting ways to use these objects.\n",
        "\n",
        "Hopefully this session has given you a good foundational knowledge of Lists and Dictionaries.\n",
        "\n",
        "This will also hopefully be a useful resource if anybody is interested in learning Python"
      ],
      "metadata": {
        "id": "u99ZhBvCGfQp"
      }
    }
  ]
}