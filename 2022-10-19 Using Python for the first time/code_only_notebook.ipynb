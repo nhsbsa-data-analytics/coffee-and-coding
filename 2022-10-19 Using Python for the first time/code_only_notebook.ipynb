{
 "cells": [
  {
   "cell_type": "code",
   "execution_count": null,
   "id": "4270314d-a5a3-4cb9-8cf0-e12a2c6be24a",
   "metadata": {},
   "outputs": [],
   "source": [
    "# Import a package\n",
    "# First do 'pip install pandas' within the terminal\n",
    "import pandas as pd"
   ]
  },
  {
   "cell_type": "code",
   "execution_count": null,
   "id": "70dd1f12-ffd5-420b-ac18-5e02e997bbde",
   "metadata": {},
   "outputs": [],
   "source": [
    "# Read a csv file\n",
    "first_table = pd.read_csv(\"Mydata.csv\")"
   ]
  },
  {
   "cell_type": "code",
   "execution_count": null,
   "id": "16ecb974-3490-4799-ad82-498d8912c1ff",
   "metadata": {},
   "outputs": [],
   "source": [
    "first_table"
   ]
  },
  {
   "cell_type": "code",
   "execution_count": null,
   "id": "e27b54a4-cbbb-4b4c-bacc-361efdfd2d80",
   "metadata": {},
   "outputs": [],
   "source": [
    "# Specify the whole path for a csv file instead\n",
    "# second_table = pd.read_csv(\"C:/Users/RYLEG/Desktop/Mydata2.csv\")"
   ]
  },
  {
   "cell_type": "code",
   "execution_count": null,
   "id": "49f89fdb-513c-458a-937d-63ec3d764661",
   "metadata": {},
   "outputs": [],
   "source": [
    "# second_table"
   ]
  },
  {
   "cell_type": "code",
   "execution_count": null,
   "id": "2f730b07-0a7d-4042-92f2-e70a1c2f7ffe",
   "metadata": {},
   "outputs": [],
   "source": [
    "# Let Python show all columns and rows of the data we've imported\n",
    "pd.set_option('display.max_rows', 500)\n",
    "pd.set_option('display.max_columns', 500)"
   ]
  },
  {
   "cell_type": "code",
   "execution_count": null,
   "id": "961813ab-890d-4ba3-868c-5e1220587528",
   "metadata": {},
   "outputs": [],
   "source": [
    "# Read an excel file\n",
    "third_table = pd.read_excel(\"Mydata.xlsx\", \"Sheet1\")"
   ]
  },
  {
   "cell_type": "code",
   "execution_count": null,
   "id": "d8e13cc3-3e7a-404a-8401-2b5c2b95a92b",
   "metadata": {},
   "outputs": [],
   "source": [
    "third_table"
   ]
  },
  {
   "cell_type": "code",
   "execution_count": null,
   "id": "a8bc91d3-1ead-4118-bc57-1ea246bfc53f",
   "metadata": {},
   "outputs": [],
   "source": [
    "# Load in our test data\n",
    "mtcars = pd.read_csv(\"mtcars.csv\")"
   ]
  },
  {
   "cell_type": "code",
   "execution_count": null,
   "id": "3468b238-3175-4b32-bf7b-5ac4d03bf3da",
   "metadata": {},
   "outputs": [],
   "source": [
    "# Show the first ten rows\n",
    "mtcars.head(10)"
   ]
  },
  {
   "cell_type": "code",
   "execution_count": null,
   "id": "61438edd-83e5-4692-8b0a-1937017e4799",
   "metadata": {},
   "outputs": [],
   "source": [
    "# Sum per cylinder\n",
    "num_cyl = mtcars['cyl'].sum()"
   ]
  },
  {
   "cell_type": "code",
   "execution_count": null,
   "id": "cf33f55e-43d8-468e-9b3f-88f48e61727f",
   "metadata": {},
   "outputs": [],
   "source": [
    "num_cyl"
   ]
  },
  {
   "cell_type": "code",
   "execution_count": null,
   "id": "b3f3b7d5-8bf1-4b5b-ad56-ff0590cb6949",
   "metadata": {},
   "outputs": [],
   "source": [
    "# Filter where number of clyinders is 4\n",
    "Cylinders4 = mtcars[mtcars['cyl'] == 4]"
   ]
  },
  {
   "cell_type": "code",
   "execution_count": null,
   "id": "d8ba83d2-6bad-457f-b878-acd08f2e32d1",
   "metadata": {},
   "outputs": [],
   "source": [
    "Cylinders4"
   ]
  },
  {
   "cell_type": "code",
   "execution_count": null,
   "id": "30bb9e11-7910-4e73-8120-f39eb59df2b5",
   "metadata": {},
   "outputs": [],
   "source": [
    "# Filter where number of clyinders is 4 and mpg is greater than 30\n",
    "Cylinders4_mpgn = mtcars[(mtcars['cyl'] == 4) & (mtcars['mpg'] > 30)]"
   ]
  },
  {
   "cell_type": "code",
   "execution_count": null,
   "id": "dd10aac1-69d9-4fab-a708-aa1eab9f53d2",
   "metadata": {},
   "outputs": [],
   "source": [
    "Cylinders4_mpgn"
   ]
  },
  {
   "cell_type": "code",
   "execution_count": null,
   "id": "699ce13e-972f-4147-a85a-3d67c3443e0e",
   "metadata": {},
   "outputs": [],
   "source": [
    "# Count the number of cars with each clyinder size\n",
    "Num_cars = mtcars \\\n",
    "  .groupby(['cyl']) \\\n",
    "  .size() \\\n",
    "  .reset_index(name = \"number_of_cars\")"
   ]
  },
  {
   "cell_type": "code",
   "execution_count": null,
   "id": "4ae2846d-ba50-4e21-ab7f-45b7e8f79ee2",
   "metadata": {},
   "outputs": [],
   "source": [
    "Num_cars"
   ]
  },
  {
   "cell_type": "code",
   "execution_count": null,
   "id": "da342207-16df-4309-bdc4-55281f2db915",
   "metadata": {},
   "outputs": [],
   "source": [
    "# Import matplotlib for plotting\n",
    "# First do 'pip install matplotlib' in the terminal\n",
    "from matplotlib import pyplot as plt"
   ]
  },
  {
   "cell_type": "code",
   "execution_count": null,
   "id": "b8495025-4213-4578-989f-07b19ee8926f",
   "metadata": {},
   "outputs": [],
   "source": [
    "# Do a basic plot of the number of cars and clyinders\n",
    "Num_cars.plot(x = \"cyl\", y = \"number_of_cars\", kind = \"bar\")\n",
    "plt.show()"
   ]
  },
  {
   "cell_type": "code",
   "execution_count": null,
   "id": "a1827f8a-4071-4e42-af9f-1281abbe0bf6",
   "metadata": {},
   "outputs": [],
   "source": [
    "# Change the size of the plot with 'figsize'\n",
    "Num_cars.plot(x = \"cyl\", y = \"number_of_cars\", kind = \"bar\", figsize = (12, 6))\n",
    "plt.show()"
   ]
  },
  {
   "cell_type": "code",
   "execution_count": null,
   "id": "b0937412-4d9f-4de0-a870-485e015536cd",
   "metadata": {},
   "outputs": [],
   "source": [
    "# Change the colour of the graph\n",
    "Num_cars.plot(x = \"cyl\", y = \"number_of_cars\", kind = \"bar\", figsize = (12, 6), color = \"green\")\n",
    "plt.show()"
   ]
  },
  {
   "cell_type": "code",
   "execution_count": null,
   "id": "310aae00-9ed8-403c-a07a-94f726dce94a",
   "metadata": {},
   "outputs": [],
   "source": [
    "# Make the graph multi-coloured\n",
    "Num_cars.plot(x = \"cyl\", y = \"number_of_cars\", kind = \"bar\", figsize = (12, 6), color = [\"red\", \"blue\", \"green\"])\n",
    "plt.show()"
   ]
  },
  {
   "cell_type": "code",
   "execution_count": null,
   "id": "2d6254d2-d0f0-4e7c-a910-52e4730854e9",
   "metadata": {},
   "outputs": [],
   "source": [
    "# Add title and axis labels to the plot\n",
    "Num_cars.plot(x = \"cyl\", y = \"number_of_cars\", kind = \"bar\", figsize = (12, 6), color = \"green\")\n",
    "plt.xlabel(\"Number of Cylinders\")\n",
    "plt.ylabel(\"Number of Cars\")\n",
    "plt.title(\"Number of cars by number of Cylinders\")\n",
    "plt.show()"
   ]
  }
 ],
 "metadata": {
  "kernelspec": {
   "display_name": "Python 3 (ipykernel)",
   "language": "python",
   "name": "python3"
  },
  "language_info": {
   "codemirror_mode": {
    "name": "ipython",
    "version": 3
   },
   "file_extension": ".py",
   "mimetype": "text/x-python",
   "name": "python",
   "nbconvert_exporter": "python",
   "pygments_lexer": "ipython3",
   "version": "3.8.13"
  }
 },
 "nbformat": 4,
 "nbformat_minor": 5
}
