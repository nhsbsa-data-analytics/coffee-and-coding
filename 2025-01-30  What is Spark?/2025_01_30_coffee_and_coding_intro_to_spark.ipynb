{
  "cells": [
    {
      "cell_type": "markdown",
      "metadata": {},
      "source": [
        "<a href=\"https://colab.research.google.com/github/nhsbsa-data-analytics/coffee-and-coding/blob/master/2025-01-30%20%20What%20is%20Spark%3F/2025_01_30_coffee_and_coding_intro_to_spark.ipynb\" target=\"_parent\"><img src=\"https://colab.research.google.com/assets/colab-badge.svg\" alt=\"Open In Colab\"/></a>"
      ]
    },
    {
      "cell_type": "markdown",
      "metadata": {
        "id": "851a1xcplfi1"
      },
      "source": [
        "# Coffee & Coding: What is Spark?\n",
        "\n",
        "- **Date:** 30/01/2025\n",
        "- **Presented by:** Alistair Jones\n",
        "\n",
        "## Overview\n",
        "This session provides an introduction to Spark by example.\n",
        "We will explore basic operations to read, transform and write data using Spark SQL and PySpark.\n",
        "We will then work through a short practical example of a simple analytical pipeline.\n",
        "\n",
        "The session will cover the fundamentals of how Spark works, why it is important/useful and offer some considerations for using it in your workflows.\n",
        "\n",
        "## Background and context\n",
        "\n",
        "### Why should you care about Spark?\n",
        "Apache Spark is a unified analytics engine designed for large-scale data processing.\n",
        "Some of the strengths of Spark include:\n",
        "\n",
        "- **Scalability** is the primary benefit of using Spark. It distributes work across a cluster of computers, which means it can handle much bigger workloads than a single computer could by itself.\n",
        "- **Support for multiple languages** auch as Python via PySpark and SQL.\n",
        "- **Managed compute** in platforms such as Microsoft Fabric  \n",
        "- Spark is completely **open-source** and **well-documented**!\n",
        "- Spark has an **active community** of developers with lots of helpful threads and tutorials available online.\n",
        "\n",
        "### What are the limitations of Spark?\n",
        "- **Additional complexity** due to the distributed nature of Spark, which means you need a cluster of computers to leverage it\n",
        "- **Row-wise computation** means we need to be careful about things like row-ordering (we will show this below)\n",
        "- Can be **hard to debug** due to the distributed nature and because it is implemented in Java under the hood (which means lengthy errors and stacktraces!)\n",
        "- Can be **hard to setup** due to the need for a cluster and the vast configuration options!"
      ]
    },
    {
      "cell_type": "markdown",
      "metadata": {
        "id": "QrRqBJZI26S2"
      },
      "source": [
        "\n",
        "## Getting started\n"
      ]
    },
    {
      "cell_type": "markdown",
      "metadata": {
        "id": "6PMm1SI8HcF1"
      },
      "source": [
        "### Environment Setup\n",
        "The first step is to setup our environment with the packages and configuration required to do the work.\n",
        "\n",
        "#### Installing PySpark Locally\n",
        "Note that Apache Spark (PySpark and Spark SQL) are meant to run on a distributed system.\n",
        "By distributed, we just mean a cluster of computers (or nodes) all working together to perform a task.\n",
        "\n",
        "You can install PySpark locally to learn how to write and run code via the PySpark API.\n",
        "Since this is on a single computer rather than a distributed system, while it will look the same, the way it works under the hood will be different in the different environments.\n",
        "\n",
        "This has implications for performance and certain behaviours.\n",
        "It won't be a problem for learning how to interact with the PySpark API, but it is a consideration for transfering this over to an actual Spark system (such as Microsoft Fabric)."
      ]
    },
    {
      "cell_type": "code",
      "execution_count": 1,
      "metadata": {
        "colab": {
          "base_uri": "https://localhost:8080/"
        },
        "id": "C3JkH_5t3EVB",
        "outputId": "d0bb09b9-1398-4b50-f2d9-c8f1c5eb7cdb"
      },
      "outputs": [
        {
          "name": "stdout",
          "output_type": "stream",
          "text": [
            "Requirement already satisfied: pyspark in /usr/local/lib/python3.11/dist-packages (3.5.4)\n",
            "Requirement already satisfied: py4j==0.10.9.7 in /usr/local/lib/python3.11/dist-packages (from pyspark) (0.10.9.7)\n"
          ]
        }
      ],
      "source": [
        "!pip install pyspark"
      ]
    },
    {
      "cell_type": "markdown",
      "metadata": {
        "id": "b-pLbjbB5gQ_"
      },
      "source": [
        "### Import Packages"
      ]
    },
    {
      "cell_type": "code",
      "execution_count": 2,
      "metadata": {
        "id": "jn2OKNxB28tx"
      },
      "outputs": [],
      "source": [
        "from pyspark import SparkFiles\n",
        "from pyspark.sql import SparkSession, functions as F"
      ]
    },
    {
      "cell_type": "markdown",
      "metadata": {
        "id": "zuo9KF5RlUx9"
      },
      "source": [
        "\n",
        "### What is a Spark Session?\n",
        "A Spark Session is the entry point to programming Spark. It provides a way to interact with Spark's functionality and create DataFrames.\n",
        "\n",
        "In managed data platforms such as Microsoft Fabric, the Spark Session is usually created when you start the notebook and available via a global `spark` variable without any further setup.\n",
        "\n",
        "In this example, since we are in our own environment, we need to create a Spark Session to be able to work with Spark."
      ]
    },
    {
      "cell_type": "code",
      "execution_count": 3,
      "metadata": {
        "id": "YCjqwqgR2LHJ"
      },
      "outputs": [],
      "source": [
        "# Initialize Spark Session since we are not working in an environment\n",
        "# where one is created for us\n",
        "spark = (\n",
        "    SparkSession.builder\n",
        "    .appName(\"Coffee_And_Coding\")\n",
        "    .getOrCreate()\n",
        ")"
      ]
    },
    {
      "cell_type": "markdown",
      "metadata": {
        "id": "zRuFR3xdEJsT"
      },
      "source": [
        "### Loading Inputs from the NHSBSA Open Data Portal\n",
        "Usually when we work in a managed environment like a data platform, we have access to data stored in tables that already exist and we just want to do something with that data.\n",
        "For this tutorial there is an additional setup step so that we can interact with\n",
        "data like we would in a data platform: we will download a csv file from the NHSBSA Open Data Portal and load it into a table, so that we have something to query!"
      ]
    },
    {
      "cell_type": "markdown",
      "metadata": {
        "id": "sOqvVKvSFwbK"
      },
      "source": [
        "First we download the csv file and load it into a PySpark DataFrame."
      ]
    },
    {
      "cell_type": "code",
      "execution_count": 4,
      "metadata": {
        "id": "VG34K1ywBuWg"
      },
      "outputs": [],
      "source": [
        "# Adding the file to the Spark Context creates a reference to the data\n",
        "# so that we can query it,\n",
        "data_url = \"https://opendata.nhsbsa.net/dataset/a436f2d3-e6c8-46bd-b730-4f4d7af7ca56/resource/9e2d01a5-7644-4843-809a-b09ddd6f447a/download/monthly-hospital-data-oct24.csv\"\n",
        "spark.sparkContext.addFile(data_url)\n",
        "\n",
        "# Get the local file spark created\n",
        "filename = data_url.split(\"/\")[-1]  # Part of the URL after the last '/'\n",
        "local_filepath = f\"file://{SparkFiles.get(filename)}\"\n",
        "\n",
        "# Load the data from a csv\n",
        "df = (\n",
        "    spark.read\n",
        "    .option(\"header\", \"true\")\n",
        "    .option(\"inferSchema\", \"true\")\n",
        "    .csv(local_filepath)\n",
        ")"
      ]
    },
    {
      "cell_type": "markdown",
      "metadata": {
        "id": "nc3nz6wEF1qR"
      },
      "source": [
        "Then we can write the data to a table.\n",
        "This step creates [parquet](https://parquet.apache.org/) files in our local drive which are the storage format Spark uses under the hood.\n",
        "Spark works by distributing a dataset around the cluster by sending a subset of the parquet files to each node.\n",
        "\n",
        "This is how Spark systems are able to scale so well, because each node in the cluster only has to do a small portion of the work.\n",
        "If we add more nodes, or make the nodes bigger, then we can do more work in a way that wouldn't be possible with a single computer!"
      ]
    },
    {
      "cell_type": "code",
      "execution_count": 5,
      "metadata": {
        "id": "fNPYfMV2FtLf"
      },
      "outputs": [],
      "source": [
        "# Store the data in a new table\n",
        "table_name = filename.split(\".\")[0]  # Part of the filename before .csv\n",
        "table_name = table_name.replace(\"-\", \"_\")  # Sanitize the table name\n",
        "\n",
        "# There are many options to configure the table to be written\n",
        "# We are only using two which provide the name and indicate\n",
        "# that we should overwrite the table if it already exists\n",
        "df.write.mode(\"overwrite\").saveAsTable(table_name)"
      ]
    },
    {
      "cell_type": "markdown",
      "metadata": {
        "id": "IWvGGbDPlQbs"
      },
      "source": [
        "## Fundamental Operations\n",
        "In this section we'll step through a few of the fundamental operations for interacting with PySpark and Spark SQL.\n",
        "Many of these will be familiar to anyone who has used SQL before!\n",
        "\n",
        "In each part we'll show both the PySpark and the Spark SQL command: feel free to follow along to whichever you prefer.\n",
        "If you don't have any prior Python experience, the Spark SQL may be more accessible.\n",
        "Equally, PySpark can be a good entrypoint to learn some Python if you are already familiar with SQL!"
      ]
    },
    {
      "cell_type": "markdown",
      "metadata": {
        "id": "Pz9WM0Kd6qff"
      },
      "source": [
        "### Create a Dataframe From Input Data\n",
        "Spark can read data from many different sources: tables, csv files, web urls, etc.\n",
        "Since we are usually working in a managed environment where the tables are curated for us, we'll explore how to load data from a table (the one we created above!).\n"
      ]
    },
    {
      "cell_type": "markdown",
      "metadata": {
        "id": "XTyUV-GyJFdz"
      },
      "source": [
        "\n",
        "#### What is a DataFrame?\n",
        "Whenever we read data using the PySpark API, we create a 'DataFrame', which represents the data we are querying.\n",
        "A DataFrame isn't actually the data itself: it is essentially a set of instructions to read, transform and write data.\n",
        "These instructions are evaluated 'lazily' which means that nothing happens straight away - you queue up all of your instructions and Spark works out when to actually do the work (usually this is when you want to print or write some results).\n",
        "\n",
        "Spark uses lazy evaluation to optimise query performance: by only executing the code at the point we need it to, Spark can cleverly work out the fastest and most efficient way to perform all the operations we are asking it to!"
      ]
    },
    {
      "cell_type": "markdown",
      "metadata": {
        "id": "x7SemfEd6Z_S"
      },
      "source": [
        "#### PySpark\n",
        "We can create a DataFrame in PySpark using the `spark.table` function."
      ]
    },
    {
      "cell_type": "code",
      "execution_count": 6,
      "metadata": {
        "colab": {
          "base_uri": "https://localhost:8080/"
        },
        "id": "vDS4IGdUHKeO",
        "outputId": "acaf1551-453d-4970-ac15-d7e9094b4198"
      },
      "outputs": [
        {
          "name": "stdout",
          "output_type": "stream",
          "text": [
            "+------+--------------------+---------------+-------------------+--------------------+--------+--------------+-----------+-----------------+---------+\n",
            "|PERIOD|            BNF NAME|       BNF CODE|HOSPITAL TRUST CODE|      HOSPITAL TRUST|QUANTITY|TOTAL QUANTITY|TOTAL ITEMS|TOTAL ACTUAL COST|TOTAL NIC|\n",
            "+------+--------------------+---------------+-------------------+--------------------+--------+--------------+-----------+-----------------+---------+\n",
            "|202410|Scheriproct suppo...|0107020P0BCABAD|              R0A00|MANCHESTER UNIVER...|     7.0|           7.0|          1|           1.0024|     0.89|\n",
            "|202410|Circadin 2mg modi...|0401010ADBBAAAA|              R0A00|MANCHESTER UNIVER...|    84.0|         252.0|          3| 123.148680889096|   129.27|\n",
            "|202410|Equasym XL 20mg c...|0404000M0BCAEAQ|              R0A00|MANCHESTER UNIVER...|    14.0|         168.0|         12|         169.3488|    168.0|\n",
            "|202410|Elvanse 20mg caps...|0404000U0BCADAA|              R0A00|MANCHESTER UNIVER...|    21.0|          21.0|          1|          41.0824|    40.97|\n",
            "|202410|Co-codamol 30mg/5...|0407010F0AAAFAF|              R0A00|MANCHESTER UNIVER...|    60.0|          60.0|          1|3.697733798655165|     4.48|\n",
            "+------+--------------------+---------------+-------------------+--------------------+--------+--------------+-----------+-----------------+---------+\n",
            "only showing top 5 rows\n",
            "\n"
          ]
        }
      ],
      "source": [
        "df = spark.table(table_name)\n",
        "df.show(5)"
      ]
    },
    {
      "cell_type": "markdown",
      "metadata": {
        "id": "80CIuXb_6XvA"
      },
      "source": [
        "#### Spark SQL\n",
        "To query data with SQL, we use the `spark.sql` function, providing a query that look be familiar to current users of SQL."
      ]
    },
    {
      "cell_type": "code",
      "execution_count": 7,
      "metadata": {
        "colab": {
          "base_uri": "https://localhost:8080/"
        },
        "id": "wR4d9OgF6Wrr",
        "outputId": "3972748f-3efd-4832-9f8c-52d026ae36fc"
      },
      "outputs": [
        {
          "name": "stdout",
          "output_type": "stream",
          "text": [
            "Showing result of: \n",
            "    SELECT * FROM monthly_hospital_data_oct24 LIMIT 5\n",
            "\n",
            "+------+--------------------+---------------+-------------------+--------------------+--------+--------------+-----------+-----------------+---------+\n",
            "|PERIOD|            BNF NAME|       BNF CODE|HOSPITAL TRUST CODE|      HOSPITAL TRUST|QUANTITY|TOTAL QUANTITY|TOTAL ITEMS|TOTAL ACTUAL COST|TOTAL NIC|\n",
            "+------+--------------------+---------------+-------------------+--------------------+--------+--------------+-----------+-----------------+---------+\n",
            "|202410|Scheriproct suppo...|0107020P0BCABAD|              R0A00|MANCHESTER UNIVER...|     7.0|           7.0|          1|           1.0024|     0.89|\n",
            "|202410|Circadin 2mg modi...|0401010ADBBAAAA|              R0A00|MANCHESTER UNIVER...|    84.0|         252.0|          3| 123.148680889096|   129.27|\n",
            "|202410|Equasym XL 20mg c...|0404000M0BCAEAQ|              R0A00|MANCHESTER UNIVER...|    14.0|         168.0|         12|         169.3488|    168.0|\n",
            "|202410|Elvanse 20mg caps...|0404000U0BCADAA|              R0A00|MANCHESTER UNIVER...|    21.0|          21.0|          1|          41.0824|    40.97|\n",
            "|202410|Co-codamol 30mg/5...|0407010F0AAAFAF|              R0A00|MANCHESTER UNIVER...|    60.0|          60.0|          1|3.697733798655165|     4.48|\n",
            "+------+--------------------+---------------+-------------------+--------------------+--------+--------------+-----------+-----------------+---------+\n",
            "\n"
          ]
        }
      ],
      "source": [
        "query = f\"\"\"\n",
        "    SELECT * FROM {table_name} LIMIT 5\n",
        "\"\"\"\n",
        "print(f\"Showing result of: {query}\")\n",
        "spark.sql(query).show()"
      ]
    },
    {
      "cell_type": "markdown",
      "metadata": {
        "id": "9cPK6xailMbk"
      },
      "source": [
        "### Selecting and Renaming Columns\n",
        "It is good practice to select only the columns we need to use in our analysis / pipeline / model.\n",
        "\n",
        "Column selection helps:\n",
        "- **Minimise data** to only the fields we need to use, thus decreasing the likelihood of any privacy risks!\n",
        "- **Improve query performance** by reducing the amount of data we pull through, reducing memory usage and processing time!\n",
        "- **Focus on relevant data** as some of our datasets can be very wide and it might not be helpful to see everything at once!"
      ]
    },
    {
      "cell_type": "markdown",
      "metadata": {
        "id": "qb1E9Tks6hS-"
      },
      "source": [
        "#### PySpark\n",
        "To select columns in PySpark, we use the `select` method on the DataFrame we created above."
      ]
    },
    {
      "cell_type": "code",
      "execution_count": 8,
      "metadata": {
        "colab": {
          "base_uri": "https://localhost:8080/"
        },
        "id": "pSSV5NSelMQR",
        "outputId": "d97a8ca4-0aad-4137-a39d-7cda8402d9e4"
      },
      "outputs": [
        {
          "name": "stdout",
          "output_type": "stream",
          "text": [
            "+-------------------+---------------+--------+------+\n",
            "|HOSPITAL TRUST CODE|       BNF CODE|QUANTITY|PERIOD|\n",
            "+-------------------+---------------+--------+------+\n",
            "|              R0A00|0107020P0BCABAD|     7.0|202410|\n",
            "|              R0A00|0401010ADBBAAAA|    84.0|202410|\n",
            "|              R0A00|0404000M0BCAEAQ|    14.0|202410|\n",
            "|              R0A00|0404000U0BCADAA|    21.0|202410|\n",
            "|              R0A00|0407010F0AAAFAF|    60.0|202410|\n",
            "+-------------------+---------------+--------+------+\n",
            "only showing top 5 rows\n",
            "\n"
          ]
        }
      ],
      "source": [
        "# Columns to select\n",
        "# We can put these directly in the arguments of 'select' but\n",
        "# it is often easier to read / maintain if we pull them out\n",
        "# into their own list\n",
        "columns = [\n",
        "    \"HOSPITAL TRUST CODE\",\n",
        "    \"BNF CODE\",\n",
        "    \"QUANTITY\",\n",
        "    \"PERIOD\",\n",
        "]\n",
        "selected_df = df.select(columns)\n",
        "selected_df.show(5)"
      ]
    },
    {
      "cell_type": "markdown",
      "metadata": {
        "id": "X4XpaXXOLa3u"
      },
      "source": [
        "Notice that our column names contain spaces: we may want to rename these to standardise and avoid potential problems down the line.\n",
        "\n",
        "In PySpark we can reference columns by name, or via a 'Column' object\n",
        "created with the `col` function from `pyspark.sql.functions` (aliased here as `F`). Using a Column object is often helpful because we can perform operations on it, which enables us specify complex transformations in a modular way.\n",
        "Think about those times you've seen many lines to define a single column in the select part of a SQL query!"
      ]
    },
    {
      "cell_type": "code",
      "execution_count": 24,
      "metadata": {
        "colab": {
          "base_uri": "https://localhost:8080/"
        },
        "id": "iDFcZGxGfi0e",
        "outputId": "301db29d-e51e-4d3f-ca6e-70ab9a817bf0"
      },
      "outputs": [
        {
          "name": "stdout",
          "output_type": "stream",
          "text": [
            "Renamed columns:\n",
            "['HOSPITAL_TRUST_CODE']\n"
          ]
        }
      ],
      "source": [
        "renamed_col = F.col(\"HOSPITAL TRUST CODE\").alias(\"HOSPITAL_TRUST_CODE\")\n",
        "renamed_df = df.select(renamed_col)\n",
        "\n",
        "print(\"Renamed columns:\")\n",
        "print(renamed_df.columns)"
      ]
    },
    {
      "cell_type": "markdown",
      "metadata": {
        "id": "gA1C4CUOfgJ3"
      },
      "source": [
        "We can rename all the columns with a for-loop."
      ]
    },
    {
      "cell_type": "code",
      "execution_count": 9,
      "metadata": {
        "colab": {
          "base_uri": "https://localhost:8080/"
        },
        "id": "ryE6FRTBLNX-",
        "outputId": "75bcf53e-7ece-4d1d-a03b-670a6ee880c6"
      },
      "outputs": [
        {
          "name": "stdout",
          "output_type": "stream",
          "text": [
            "Renamed columns:\n",
            "['PERIOD', 'BNF_NAME', 'BNF_CODE', 'HOSPITAL_TRUST_CODE', 'HOSPITAL_TRUST', 'QUANTITY', 'TOTAL_QUANTITY', 'TOTAL_ITEMS', 'TOTAL_ACTUAL_COST', 'TOTAL_NIC']\n"
          ]
        }
      ],
      "source": [
        "renamed_columns = []\n",
        "\n",
        "for old_name in df.columns:\n",
        "    old_col = F.col(old_name)  # Define the Column by referencing via its name\n",
        "\n",
        "    # Get the new name and use it to create a new Column by aliasing the old\n",
        "    new_name = old_name.replace(\" \", \"_\")  # Replace spaces with underscore\n",
        "    new_col = old_col.alias(new_name)\n",
        "\n",
        "    # Add the new column to the list of columns we will select\n",
        "    renamed_columns.append(new_col)\n",
        "\n",
        "# Select the newly renamed columns\n",
        "renamed_df = df.select(renamed_columns)\n",
        "print(\"Renamed columns:\")\n",
        "print(renamed_df.columns)"
      ]
    },
    {
      "cell_type": "markdown",
      "metadata": {
        "id": "W3L5UZC86hly"
      },
      "source": [
        "#### Spark SQL\n",
        "In Spark SQL selecting columns is straightforward: we just modify the query we pass to `spark.sql`.\n",
        "The only issue to be aware of is that is can be hard to write modular code in this way, so while it might feel easier, sometimes it can be harder to read/write/maintain Spark SQL compared to PySpark as the size/complexity of a query grows.\n",
        "\n",
        "Similar to above, we can rename our columns by aliasing, this time with 'AS'"
      ]
    },
    {
      "cell_type": "code",
      "execution_count": 10,
      "metadata": {
        "colab": {
          "base_uri": "https://localhost:8080/"
        },
        "id": "OmoyT6Ie6gqm",
        "outputId": "7498568e-c499-422c-fdd9-cdc693ad9096"
      },
      "outputs": [
        {
          "name": "stdout",
          "output_type": "stream",
          "text": [
            "+------+--------------------+---------------+-------------------+--------------------+--------+--------------+-----------+-----------------+---------+\n",
            "|PERIOD|            BNF_NAME|       BNF_CODE|HOSPITAL_TRUST_CODE|      HOSPITAL_TRUST|QUANTITY|TOTAL_QUANTITY|TOTAL_ITEMS|TOTAL_ACTUAL_COST|TOTAL_NIC|\n",
            "+------+--------------------+---------------+-------------------+--------------------+--------+--------------+-----------+-----------------+---------+\n",
            "|202410|Scheriproct suppo...|0107020P0BCABAD|              R0A00|MANCHESTER UNIVER...|     7.0|           7.0|          1|           1.0024|     0.89|\n",
            "|202410|Circadin 2mg modi...|0401010ADBBAAAA|              R0A00|MANCHESTER UNIVER...|    84.0|         252.0|          3| 123.148680889096|   129.27|\n",
            "|202410|Equasym XL 20mg c...|0404000M0BCAEAQ|              R0A00|MANCHESTER UNIVER...|    14.0|         168.0|         12|         169.3488|    168.0|\n",
            "|202410|Elvanse 20mg caps...|0404000U0BCADAA|              R0A00|MANCHESTER UNIVER...|    21.0|          21.0|          1|          41.0824|    40.97|\n",
            "|202410|Co-codamol 30mg/5...|0407010F0AAAFAF|              R0A00|MANCHESTER UNIVER...|    60.0|          60.0|          1|3.697733798655165|     4.48|\n",
            "+------+--------------------+---------------+-------------------+--------------------+--------+--------------+-----------+-----------------+---------+\n",
            "\n"
          ]
        }
      ],
      "source": [
        "query = f\"\"\"\n",
        "    SELECT\n",
        "        PERIOD AS PERIOD,\n",
        "        `BNF NAME` AS BNF_NAME,\n",
        "        `BNF CODE` AS BNF_CODE,\n",
        "        `HOSPITAL TRUST CODE` AS HOSPITAL_TRUST_CODE,\n",
        "        `HOSPITAL TRUST` AS HOSPITAL_TRUST,\n",
        "        QUANTITY AS QUANTITY,\n",
        "        `TOTAL QUANTITY` AS TOTAL_QUANTITY,\n",
        "        `TOTAL ITEMS` AS TOTAL_ITEMS,\n",
        "        `TOTAL ACTUAL COST` AS TOTAL_ACTUAL_COST,\n",
        "        `TOTAL NIC` AS TOTAL_NIC\n",
        "    FROM {table_name}\n",
        "    LIMIT 5\n",
        "\"\"\"\n",
        "spark.sql(query).show()"
      ]
    },
    {
      "cell_type": "markdown",
      "metadata": {
        "id": "xcJnb_X6lHSM"
      },
      "source": [
        "### Filtering Rows\n",
        "Filtering rows is a key operation that we use frequently in preparing and transforming data for analysis, helping to:\n",
        "- **Minimise data** to only the records we need to use, thus decreasing the likelihood of any privacy risks!\n",
        "- **Improve query performance** by reducing the amount of data we pull through, reducing memory usage and processing time!\n",
        "- **Focus on relevant data** as some of our datasets can be very long and it might not be helpful to see everything at once!"
      ]
    },
    {
      "cell_type": "markdown",
      "metadata": {
        "id": "xDESD7Z569C_"
      },
      "source": [
        "#### PySpark\n",
        "In PySpark we can filter rows using the `filter` or `where` methods of a DataFrame (you can use either - they are exactly the same under the hood!).\n",
        "\n",
        "Filter conditions can be created either using a SQL expression withing a string (e.g. `\"my_column > 5\"`) or using the Column object we discussed above (e.g. `F.col(\"my_column\") > 5`. You can use either, but Column objects are usually preferable for more complex conditions, since they can be created and combined in a modular way (unlike string SQL expressions, Column objects support most operations like addition, subtraction, greater or less than, and so on)."
      ]
    },
    {
      "cell_type": "code",
      "execution_count": 12,
      "metadata": {
        "colab": {
          "base_uri": "https://localhost:8080/"
        },
        "id": "Yt2rnTlVlG-3",
        "outputId": "e3252dcb-ef75-428f-922a-3f45e5f72189"
      },
      "outputs": [
        {
          "name": "stdout",
          "output_type": "stream",
          "text": [
            "+------+--------------------+---------------+-------------------+--------------------+--------+--------------+-----------+------------------+---------+\n",
            "|PERIOD|            BNF_NAME|       BNF_CODE|HOSPITAL_TRUST_CODE|      HOSPITAL_TRUST|QUANTITY|TOTAL_QUANTITY|TOTAL_ITEMS| TOTAL_ACTUAL_COST|TOTAL_NIC|\n",
            "+------+--------------------+---------------+-------------------+--------------------+--------+--------------+-----------+------------------+---------+\n",
            "|202410|Paracetamol 500mg...|0407010H0AAAMAM|              RKB00|UNIVERSITY HOSPIT...|   100.0|         200.0|          2|3.1299551649067054|     3.88|\n",
            "|202410|Paracetamol 500mg...|0407010H0AAAMAM|              RKB00|UNIVERSITY HOSPIT...|    32.0|          32.0|          1|0.5085845882067416|     0.62|\n",
            "+------+--------------------+---------------+-------------------+--------------------+--------+--------------+-----------+------------------+---------+\n",
            "\n"
          ]
        }
      ],
      "source": [
        "hospital_condition_col = F.col(\"HOSPITAL_TRUST_CODE\") == \"RKB00\"  # Coventry\n",
        "bnf_condition_col = F.substring(\"BNF_CODE\", 0, 9) == \"0407010H0\"  # Paracetamol\n",
        "condition_col = hospital_condition_col & bnf_condition_col\n",
        "filtered_df = renamed_df.filter(condition_col)\n",
        "filtered_df.show(5)"
      ]
    },
    {
      "cell_type": "markdown",
      "metadata": {
        "id": "30ULAs1h67a6"
      },
      "source": [
        "#### Spark SQL\n",
        "In Spark SQL, similarly to the sections above, we simply provide a SQL query with a 'WHERE' clause, as we would with other flavours of SQL.\n",
        "\n",
        "Note how the query size starts to grow: when we create a DataFrame with PySpark the query is dynamically created at runtime (i.e. after we've added all the transformations) but when we write SQL directly we have to put everything in one long query string.\n",
        "\n",
        "One way to get around this is to create temporary tables or views to hold intermediate outputs from SQL queries.\n",
        "We'll not cover that here though, instead simply recommending to give PySpark a try!"
      ]
    },
    {
      "cell_type": "code",
      "execution_count": 13,
      "metadata": {
        "colab": {
          "base_uri": "https://localhost:8080/"
        },
        "id": "CRKBjIwi666k",
        "outputId": "c3b5df93-4297-4ff4-92b8-c4ffc5efcda8"
      },
      "outputs": [
        {
          "name": "stdout",
          "output_type": "stream",
          "text": [
            "+------+--------------------+---------------+-------------------+--------------------+--------+--------------+-----------+------------------+---------+\n",
            "|PERIOD|            BNF_NAME|       BNF_CODE|HOSPITAL_TRUST_CODE|      HOSPITAL_TRUST|QUANTITY|TOTAL_QUANTITY|TOTAL_ITEMS| TOTAL_ACTUAL_COST|TOTAL_NIC|\n",
            "+------+--------------------+---------------+-------------------+--------------------+--------+--------------+-----------+------------------+---------+\n",
            "|202410|Paracetamol 500mg...|0407010H0AAAMAM|              RKB00|UNIVERSITY HOSPIT...|   100.0|         200.0|          2|3.1299551649067054|     3.88|\n",
            "|202410|Paracetamol 500mg...|0407010H0AAAMAM|              RKB00|UNIVERSITY HOSPIT...|    32.0|          32.0|          1|0.5085845882067416|     0.62|\n",
            "+------+--------------------+---------------+-------------------+--------------------+--------+--------------+-----------+------------------+---------+\n",
            "\n"
          ]
        }
      ],
      "source": [
        "query = f\"\"\"\n",
        "    SELECT\n",
        "        PERIOD AS PERIOD,\n",
        "        `BNF NAME` AS BNF_NAME,\n",
        "        `BNF CODE` AS BNF_CODE,\n",
        "        `HOSPITAL TRUST CODE` AS HOSPITAL_TRUST_CODE,\n",
        "        `HOSPITAL TRUST` AS HOSPITAL_TRUST,\n",
        "        QUANTITY AS QUANTITY,\n",
        "        `TOTAL QUANTITY` AS TOTAL_QUANTITY,\n",
        "        `TOTAL ITEMS` AS TOTAL_ITEMS,\n",
        "        `TOTAL ACTUAL COST` AS TOTAL_ACTUAL_COST,\n",
        "        `TOTAL NIC` AS TOTAL_NIC\n",
        "    FROM {table_name}\n",
        "    WHERE `HOSPITAL TRUST CODE` = 'RKB00'\n",
        "        AND substring(`BNF CODE`, 0, 9) = '0407010H0'\n",
        "    LIMIT 5\n",
        "\"\"\"\n",
        "spark.sql(query).show()"
      ]
    },
    {
      "cell_type": "markdown",
      "metadata": {
        "id": "MrKgu213k5wL"
      },
      "source": [
        "### Adding New Columns\n",
        "\n",
        "Above we looked at how to select existing columns, but we can also add new columns to our data.\n",
        "This allows us to perform calculations involving existing columns or apply business rules and derivations."
      ]
    },
    {
      "cell_type": "markdown",
      "metadata": {
        "id": "ydBBvsDn9Hf5"
      },
      "source": [
        "#### PySpark\n",
        "In Pyspark, we _can_ add new columnd with `select`, but it is often clearer if we stick to using `select` for picking existing columns and `withColumn` to add a new column.\n",
        "\n",
        "If the new column involves a conditional 'case-when' statement, we can do this using `when` from `pyspark.sql.functions`."
      ]
    },
    {
      "cell_type": "code",
      "execution_count": 14,
      "metadata": {
        "colab": {
          "base_uri": "https://localhost:8080/"
        },
        "id": "KtuPht0vlAvW",
        "outputId": "36f7e68d-9772-49da-ed1a-08c4165750fb"
      },
      "outputs": [
        {
          "name": "stdout",
          "output_type": "stream",
          "text": [
            "+------+----------+--------+-------------+\n",
            "|PERIOD|      DATE|QUANTITY|QUANTIY_CLASS|\n",
            "+------+----------+--------+-------------+\n",
            "|202410|2024-10-01|     7.0|          low|\n",
            "|202410|2024-10-01|    84.0|         high|\n",
            "|202410|2024-10-01|    14.0|          low|\n",
            "|202410|2024-10-01|    21.0|          low|\n",
            "|202410|2024-10-01|    60.0|         high|\n",
            "+------+----------+--------+-------------+\n",
            "only showing top 5 rows\n",
            "\n"
          ]
        }
      ],
      "source": [
        "# Extract date from period\n",
        "derived_df = renamed_df.withColumn(\"DATE\", F.to_date(\"PERIOD\", \"yyyyMM\"))\n",
        "\n",
        "# Add a new column to classify the quantity\n",
        "# Case when statement using F.when(cond, value_if_true).otherwise(default)\n",
        "quantity_class_col = (\n",
        "    F.when(F.col(\"QUANTITY\") > 50, \"high\")\n",
        "    .otherwise(\"low\")\n",
        ")\n",
        "derived_df = derived_df.withColumn(\"QUANTIY_CLASS\", quantity_class_col)\n",
        "\n",
        "# Show the new columns and the columns used to derive them\n",
        "show_cols = [\n",
        "    \"PERIOD\",\n",
        "    \"DATE\",\n",
        "    \"QUANTITY\",\n",
        "    \"QUANTIY_CLASS\",\n",
        "]\n",
        "derived_df.select(show_cols).show(5)"
      ]
    },
    {
      "cell_type": "markdown",
      "metadata": {
        "id": "fnF7qvgpRBQN"
      },
      "source": [
        "Note: if we want to add a constant-value column, we need to use `lit` which means we are defining a literal value column.\n",
        "This is because PySpark expects columns to either be Column objects (which represent a SQL expression under the hood) or a string which references the column by name.\n",
        "The `lit` function simply tells PySpark to create a Column with a single constant value."
      ]
    },
    {
      "cell_type": "code",
      "execution_count": 15,
      "metadata": {
        "colab": {
          "base_uri": "https://localhost:8080/"
        },
        "id": "ORIniBJrRAMx",
        "outputId": "c82447ba-bbbd-466e-ad8c-d6e01622cdd1"
      },
      "outputs": [
        {
          "name": "stdout",
          "output_type": "stream",
          "text": [
            "+--------+\n",
            "|CONSTANT|\n",
            "+--------+\n",
            "|       1|\n",
            "|       1|\n",
            "|       1|\n",
            "|       1|\n",
            "|       1|\n",
            "+--------+\n",
            "only showing top 5 rows\n",
            "\n"
          ]
        }
      ],
      "source": [
        "# Note that the line below doesn't reassign the DataFrame derived_df with the\n",
        "# new column (i.e. there is no '='), so this transformation will not be\n",
        "# preserved downstream\n",
        "(\n",
        "    derived_df\n",
        "    .withColumn(\"CONSTANT\", F.lit(1))  # Add the column\n",
        "    .select(\"CONSTANT\")  # Select the new column\n",
        "    .show(5)\n",
        ")"
      ]
    },
    {
      "cell_type": "markdown",
      "metadata": {
        "id": "kDTUMMuh9JmA"
      },
      "source": [
        "#### Spark SQL\n",
        "As with other SQL sections above, we can use familiar syntax to other flavours of SQL to add a new column via a `SELECT` statement and use `CASE... WHEN... ELSE...` to implement conditional column derivations."
      ]
    },
    {
      "cell_type": "code",
      "execution_count": 16,
      "metadata": {
        "colab": {
          "base_uri": "https://localhost:8080/"
        },
        "id": "bt5poLmB8ngT",
        "outputId": "c66cc104-d5bb-4331-f39f-0141ac752558"
      },
      "outputs": [
        {
          "name": "stdout",
          "output_type": "stream",
          "text": [
            "+------+------+--------+--------------+\n",
            "|PERIOD|  DATE|QUANTITY|QUANTITY_CLASS|\n",
            "+------+------+--------+--------------+\n",
            "|202410|202410|     7.0|           low|\n",
            "|202410|202410|    84.0|          high|\n",
            "|202410|202410|    14.0|           low|\n",
            "|202410|202410|    21.0|           low|\n",
            "|202410|202410|    60.0|          high|\n",
            "+------+------+--------+--------------+\n",
            "only showing top 5 rows\n",
            "\n"
          ]
        }
      ],
      "source": [
        "# As above, we derive 2 columns\n",
        "# 'DATE' from formatting the 'PERIOD'\n",
        "# 'QUANTIY_CLASS' from conditional cases on 'QUANTIY'\n",
        "query = f\"\"\"\n",
        "    SELECT\n",
        "        PERIOD,\n",
        "        format_string(PERIOD, 'yyyyMM') AS DATE,\n",
        "        QUANTITY,\n",
        "        CASE\n",
        "            WHEN QUANTITY > 50 THEN 'high'\n",
        "            ELSE 'low'\n",
        "        END AS QUANTITY_CLASS\n",
        "    FROM {table_name}\n",
        "\"\"\"\n",
        "spark.sql(query).show(5)"
      ]
    },
    {
      "cell_type": "markdown",
      "metadata": {
        "id": "dGhRjs-BlCVc"
      },
      "source": [
        "### Aggregations\n",
        "Preparing, transforming and analysing data often involves some form of aggregations.\n",
        "We can aggregate data through 'group by' operations, which may be familiar to folks who have used languages such as SQL, Python or R to interact with data.\n",
        "\n",
        "There are two parts to a 'group by':\n",
        "1. The fields or columns in the data we want to group records by\n",
        "2. The fields or columns to be aggregated over the group and how they will be aggregated (e.g. summed, counted, etc)"
      ]
    },
    {
      "cell_type": "markdown",
      "metadata": {
        "id": "cV02f8_59MVy"
      },
      "source": [
        "#### PySpark\n",
        "In PySpark, we use the `groupBy` method of a DataFrame to perform a 'group by' operation and `agg` to do the aggregation.\n",
        "We can provide Column objects or strings to specify the fields to use in each step of this transformation and as above we often want to use Column objects.\n",
        "\n",
        "Additionally, it is often easier to read, understand and maintain code where the columns have been pulled out of the transformation itself, as shown below."
      ]
    },
    {
      "cell_type": "code",
      "execution_count": 17,
      "metadata": {
        "colab": {
          "base_uri": "https://localhost:8080/"
        },
        "id": "CVVB3tRslBiw",
        "outputId": "6fba2f6a-c92b-45af-db3e-5b0caed046eb"
      },
      "outputs": [
        {
          "name": "stdout",
          "output_type": "stream",
          "text": [
            "+-------------------+---------------+--------------+\n",
            "|HOSPITAL_TRUST_CODE|       BNF_CODE|TOTAL_QUANTITY|\n",
            "+-------------------+---------------+--------------+\n",
            "|              RBK00|0604020C0AAAAAA|         182.0|\n",
            "|              R0A00|    21220000205|        3100.0|\n",
            "|              R1F00|0407020A0AAAFAF|           5.0|\n",
            "|              RAT00|0407042F0AAAAAA|        2332.0|\n",
            "|              R1K00|0406000B0AAABAB|         410.0|\n",
            "+-------------------+---------------+--------------+\n",
            "only showing top 5 rows\n",
            "\n"
          ]
        }
      ],
      "source": [
        "# Lift the columns for grouping and aggregation out of the transformation\n",
        "# This can make code easier to read and maintain, especially as the complexity\n",
        "# increases\n",
        "group_cols = [\n",
        "    F.col(\"HOSPITAL_TRUST_CODE\"),\n",
        "    F.col(\"BNF_CODE\"),\n",
        "]\n",
        "agg_cols = [\n",
        "    # `alias` used to name the resulting column\n",
        "    F.sum(\"TOTAL_QUANTITY\").alias(\"TOTAL_QUANTITY\")\n",
        "]\n",
        "totals_by_hospital_and_bnf_df = (\n",
        "    renamed_df\n",
        "    .groupBy(*group_cols)\n",
        "    .agg(*agg_cols)\n",
        ")\n",
        "\n",
        "totals_by_hospital_and_bnf_df.show(5)"
      ]
    },
    {
      "cell_type": "markdown",
      "metadata": {
        "id": "17760m659NuC"
      },
      "source": [
        "#### Spark SQL\n",
        "Aggregation in Spark SQL uses the familiar 'GROUP BY' expression from other flavours of SQL, along with aggregation expressions such as 'sum' in the columns to be selected."
      ]
    },
    {
      "cell_type": "code",
      "execution_count": 18,
      "metadata": {
        "colab": {
          "base_uri": "https://localhost:8080/"
        },
        "id": "8IyNiDBU8eiW",
        "outputId": "77f1f935-cec3-4db3-c86c-3c631a3dfbab"
      },
      "outputs": [
        {
          "name": "stdout",
          "output_type": "stream",
          "text": [
            "+-------------------+---------------+--------------+\n",
            "|HOSPITAL_TRUST_CODE|       BNF_CODE|TOTAL_QUANTITY|\n",
            "+-------------------+---------------+--------------+\n",
            "|              RBK00|0604020C0AAAAAA|         182.0|\n",
            "|              R0A00|    21220000205|        3100.0|\n",
            "|              R1F00|0407020A0AAAFAF|           5.0|\n",
            "|              RAT00|0407042F0AAAAAA|        2332.0|\n",
            "|              R1K00|0406000B0AAABAB|         410.0|\n",
            "+-------------------+---------------+--------------+\n",
            "only showing top 5 rows\n",
            "\n"
          ]
        }
      ],
      "source": [
        "query = f\"\"\"\n",
        "    SELECT\n",
        "        `HOSPITAL TRUST CODE` AS HOSPITAL_TRUST_CODE,\n",
        "        `BNF CODE` AS BNF_CODE,\n",
        "        sum(`TOTAL QUANTITY`) AS TOTAL_QUANTITY\n",
        "    FROM {table_name}\n",
        "    GROUP BY `HOSPITAL TRUST CODE`, `BNF CODE`\n",
        "\"\"\"\n",
        "spark.sql(query).show(5)"
      ]
    },
    {
      "cell_type": "markdown",
      "metadata": {
        "id": "6BGJIJQ1UPUP"
      },
      "source": [
        "### Joins\n",
        "We frequently need to join datasets together to enrich data or add dimensions to provide additional context for analysis."
      ]
    },
    {
      "cell_type": "markdown",
      "metadata": {
        "id": "lOHj4xaWUe37"
      },
      "source": [
        "#### PySpark\n",
        "In PySpark we can use the `join` method of a DataFrame, which takes arguments specifying:\n",
        "1. the other DataFrame to join\n",
        "2. the columns to join on (these can be a list of strings or Column objects)\n",
        "3. how to do the join (e.g. inner, left, etc)"
      ]
    },
    {
      "cell_type": "code",
      "execution_count": 19,
      "metadata": {
        "colab": {
          "base_uri": "https://localhost:8080/"
        },
        "id": "QRnWEdWhUOzD",
        "outputId": "03773a3c-7173-4e16-846c-17e6407e98b9"
      },
      "outputs": [
        {
          "name": "stdout",
          "output_type": "stream",
          "text": [
            "+-------------------+---------------+--------------+--------------------+--------------------+\n",
            "|HOSPITAL_TRUST_CODE|       BNF_CODE|TOTAL_QUANTITY|      HOSPITAL_TRUST|            BNF_NAME|\n",
            "+-------------------+---------------+--------------+--------------------+--------------------+\n",
            "|              R0A00|040702040AAACAC|          28.0|MANCHESTER UNIVER...|Tramadol 100mg mo...|\n",
            "|              RBN00|1304000H0BBAAAA|         190.0|MERSEY & WEST LAN...|Eumovate 0.05% cream|\n",
            "|              RAT00|0403030E0AAAPAP|         177.0|NORTH EAST LONDON...|Fluoxetine 10mg t...|\n",
            "|              R1L00|0408010F0AAABAB|        1539.0|ESSEX PARTNERSHIP...|Clonazepam 500mic...|\n",
            "|              RAE00|0304010I0AAAAAA|          28.0|BRADFORD TEACHING...|Cetirizine 10mg t...|\n",
            "+-------------------+---------------+--------------+--------------------+--------------------+\n",
            "only showing top 5 rows\n",
            "\n"
          ]
        }
      ],
      "source": [
        "# Get the mapping between codes and names\n",
        "# We'll join this to the aggregated data above to provide context\n",
        "bnf_hospital_cols = [\n",
        "    \"HOSPITAL_TRUST\",\n",
        "    \"HOSPITAL_TRUST_CODE\",\n",
        "    \"BNF_NAME\",\n",
        "    \"BNF_CODE\",\n",
        "]\n",
        "bnf_hospital_map_df = (\n",
        "    renamed_df.select(bnf_hospital_cols).distinct()\n",
        ")\n",
        "\n",
        "# It can be helpful in terms of readability/maintainability to pull the\n",
        "# join columns out of the join transformation\n",
        "join_on = [\n",
        "    \"HOSPITAL_TRUST_CODE\",\n",
        "    \"BNF_CODE\",\n",
        "]\n",
        "joined_df = (\n",
        "    totals_by_hospital_and_bnf_df\n",
        "    .join(\n",
        "        bnf_hospital_map_df,\n",
        "        on=join_on,\n",
        "        how=\"inner\"\n",
        "    )\n",
        ")\n",
        "\n",
        "joined_df.show(5)"
      ]
    },
    {
      "cell_type": "markdown",
      "metadata": {
        "id": "2eiOxhs1XSRX"
      },
      "source": [
        "#### Spark SQL\n",
        "We can join in Spark SQL again using familiar syntax from other SQL flavours, e.g. 'INNER JOIN', 'LEFT JOIN' etc."
      ]
    },
    {
      "cell_type": "code",
      "execution_count": 20,
      "metadata": {
        "colab": {
          "base_uri": "https://localhost:8080/"
        },
        "id": "IS_bk4xQXhEn",
        "outputId": "3cc8bb43-bc93-40c6-d265-4464a590b738"
      },
      "outputs": [
        {
          "name": "stdout",
          "output_type": "stream",
          "text": [
            "+-------------------+---------------+--------------+--------------------+--------------------+\n",
            "|HOSPITAL_TRUST_CODE|       BNF_CODE|TOTAL_QUANTITY|      HOSPITAL_TRUST|            BNF_NAME|\n",
            "+-------------------+---------------+--------------+--------------------+--------------------+\n",
            "|              RAJ00|0103050L0AAAHAH|         141.0|MID AND SOUTH ESS...|Lansoprazole 30mg...|\n",
            "|              RBD00|190201000AABLBL|         862.0|DORSET COUNTY HOS...|Exception Handler...|\n",
            "|              R0B00|0303020G0AAADAD|          28.0|SOUTH TYNESIDE AN...|Montelukast 4mg g...|\n",
            "|              RAT00|0404000M0BGADAU|       13187.0|NORTH EAST LONDON...|Medikinet XL 10mg...|\n",
            "|              RBK00|1001010C0AAALAL|         236.0|WALSALL HEALTHCAR...|Diclofenac sodium...|\n",
            "+-------------------+---------------+--------------+--------------------+--------------------+\n",
            "only showing top 5 rows\n",
            "\n"
          ]
        }
      ],
      "source": [
        "query = f\"\"\"\n",
        "    SELECT\n",
        "        agg_tbl.HOSPITAL_TRUST_CODE,\n",
        "        agg_tbl.BNF_CODE,\n",
        "        agg_tbl.TOTAL_QUANTITY,\n",
        "        map_tbl.HOSPITAL_TRUST,\n",
        "        map_tbl.BNF_NAME\n",
        "    FROM (\n",
        "        SELECT\n",
        "            `HOSPITAL TRUST CODE` AS HOSPITAL_TRUST_CODE,\n",
        "            `BNF CODE` AS BNF_CODE,\n",
        "            sum(`TOTAL QUANTITY`) AS TOTAL_QUANTITY\n",
        "        FROM {table_name}\n",
        "        GROUP BY `HOSPITAL TRUST CODE`, `BNF CODE`\n",
        "    ) AS agg_tbl\n",
        "    INNER JOIN (\n",
        "        SELECT DISTINCT\n",
        "            `HOSPITAL TRUST CODE` AS HOSPITAL_TRUST_CODE,\n",
        "            `BNF CODE` AS BNF_CODE,\n",
        "            `HOSPITAL TRUST` AS HOSPITAL_TRUST,\n",
        "            `BNF NAME` AS BNF_NAME\n",
        "        FROM {table_name}\n",
        "    ) AS map_tbl\n",
        "    ON map_tbl.HOSPITAL_TRUST_CODE = agg_tbl.HOSPITAL_TRUST_CODE\n",
        "        AND map_tbl.BNF_CODE = agg_tbl.BNF_CODE\n",
        "\"\"\"\n",
        "spark.sql(query).show(5)"
      ]
    },
    {
      "cell_type": "markdown",
      "metadata": {
        "id": "5fXt_EvhdZ6z"
      },
      "source": [
        "#### Note on row ordering\n",
        "Notice that the order of rows is different between the PySpark and Spark SQL examples above.\n",
        "This demonstrates a key aspect to consider when writing code for Spark which is that the processing does not take account of row order unless you explictly tell it to (e.g. with an 'ORDER BY' clause).\n",
        "\n",
        "When Spark executes a task, it splits the rows up and sends them to different nodes in the cluster, each of which can take a different amount of time to process and return the results.\n",
        "\n",
        "Although the results are the same overall (as in they have the same schema and contain the same records), the order in which the records appear in the result sets is not guaranteed to be the same from run-to-run."
      ]
    },
    {
      "cell_type": "markdown",
      "metadata": {
        "id": "wXMzxR4rk7d7"
      },
      "source": [
        "### Writing Outputs\n",
        "Spark is capable of writing outputs to a number of different formats, including csv, parquet and json.\n",
        "But most often we want to write to a managed table in a Spark SQL database (note the data will actually be stored in parquet files under the hood, but we will simply see a table in the database as we would in e.g. Oracle SQL Developer).\n"
      ]
    },
    {
      "cell_type": "markdown",
      "metadata": {
        "id": "tImAduII9QKM"
      },
      "source": [
        "#### PySpark\n",
        "In PySpark we can use the `save` and `saveAsTable` methods of a DataFrame: the former writes records to files in a specified location (e.g. a network drive), while the latter creates a table in SQL to write the records.\n",
        "\n",
        "For general use `save` is more powerful since there are more options for configuration.\n",
        "But in the example below we'll keep it simple and use `saveAsTable`\n",
        "\n",
        "Note: since `saveAsTable` will error if a table exists, it can be useful to check if the table exists before you try to write to it.\n",
        "(Hint: this is probably good practice for other reasons too!). You can check if a table exists using `spark.catalog.tableExists`, passing the table name as the function arguments."
      ]
    },
    {
      "cell_type": "code",
      "execution_count": 21,
      "metadata": {
        "id": "csiO4iS-kteO"
      },
      "outputs": [],
      "source": [
        "# There are many options to configure the table to be written\n",
        "# We are only using two which provide the name and indicate\n",
        "# that we should overwrite the table if it already exists\n",
        "joined_df.write.saveAsTable(\"results_20250130\", mode=\"overwrite\")"
      ]
    },
    {
      "cell_type": "markdown",
      "metadata": {
        "id": "J3MJrc39gDGY"
      },
      "source": [
        "Let's take a look at our new table."
      ]
    },
    {
      "cell_type": "code",
      "execution_count": 22,
      "metadata": {
        "colab": {
          "base_uri": "https://localhost:8080/"
        },
        "id": "gn-D8rWpfr2w",
        "outputId": "bc4b13ac-0b41-42fb-e6b6-cba70a24e675"
      },
      "outputs": [
        {
          "name": "stdout",
          "output_type": "stream",
          "text": [
            "+-------------------+---------------+--------------+--------------------+--------------------+\n",
            "|HOSPITAL_TRUST_CODE|       BNF_CODE|TOTAL_QUANTITY|      HOSPITAL_TRUST|            BNF_NAME|\n",
            "+-------------------+---------------+--------------+--------------------+--------------------+\n",
            "|              RA700|1202010U0AAAAAA|           8.0|UNIVERSITY HOSPIT...|Mometasone 50micr...|\n",
            "|              R0A00|0404000V0AAACAC|         189.0|MANCHESTER UNIVER...|Guanfacine 1mg mo...|\n",
            "|              RAT00|0404000M0BDAAAM|         878.0|NORTH EAST LONDON...|Concerta XL 18mg ...|\n",
            "|              RAJ00|0603020T0AAACAC|        8836.0|MID AND SOUTH ESS...|Prednisolone 5mg ...|\n",
            "|              RAT00|040201030AAANAN|         777.0|NORTH EAST LONDON...|Risperidone 500mi...|\n",
            "+-------------------+---------------+--------------+--------------------+--------------------+\n",
            "only showing top 5 rows\n",
            "\n"
          ]
        }
      ],
      "source": [
        "spark.table(\"results_20250130\").show(5)  # Look at our new table!"
      ]
    },
    {
      "cell_type": "markdown",
      "metadata": {
        "id": "cWQ08nGM9RT3"
      },
      "source": [
        "#### Spark SQL\n",
        "To do the same in pure Spark SQL requires much more code than above, because we must first create the table and then write into it.\n",
        "We will not cover this here, simply (and lazily) recommending that you use the line of PySpark shown above to write the table or follow the examples on the [Spark SQL docs](https://spark.apache.org/docs/latest/sql-ref-syntax-ddl-create-table-datasource.html)!"
      ]
    },
    {
      "cell_type": "markdown",
      "metadata": {
        "id": "fg4uUm2gXQt0"
      },
      "source": [
        "## Example Pipeline\n",
        "Let's put our learning into practice and build a full end to end pipeline!\n",
        "\n",
        "Our pipeline will have the following steps:\n",
        "1. Read data\n",
        "1. Select columns of interest\n",
        "1. Derive a new column\n",
        "1. Filter the rows\n",
        "1. Aggregate the data\n",
        "1. Write outputs to a table"
      ]
    },
    {
      "cell_type": "code",
      "execution_count": 23,
      "metadata": {
        "colab": {
          "base_uri": "https://localhost:8080/"
        },
        "id": "tn7J0D8VXTAd",
        "outputId": "75836c4f-5dc9-4c76-db92-877489998c51"
      },
      "outputs": [
        {
          "name": "stdout",
          "output_type": "stream",
          "text": [
            "+--------------------+--------------------+-------------+\n",
            "|      HOSPITAL_TRUST|            BNF_NAME|MAX_UNIT_COST|\n",
            "+--------------------+--------------------+-------------+\n",
            "|ASHFORD & ST PETE...|Paracetamol 500mg...|       0.0194|\n",
            "|BARKING HAVERING ...|Paracetamol 500mg...|       0.0195|\n",
            "|BARTS HEALTH NHS ...|Paracetamol 500mg...|       0.0194|\n",
            "|BEDFORDSHIRE HOSP...|Paracetamol 500mg...|       0.0196|\n",
            "|BERKSHIRE HEALTHC...|Paracetamol 500mg...|       0.0195|\n",
            "|BIRMINGHAM AND SO...|Paracetamol 500mg...|       0.0194|\n",
            "|BLACK COUNTRY HEA...|Paracetamol 500mg...|       0.0194|\n",
            "|BLACKPOOL TEACHIN...|Paracetamol 500mg...|       0.0194|\n",
            "|BOLTON NHS FOUNDA...|Paracetamol 500mg...|       0.0195|\n",
            "|BUCKINGHAMSHIRE H...|Paracetamol 500mg...|       0.0195|\n",
            "|CORNWALL PARTNERS...|Paracetamol 500mg...|       0.0195|\n",
            "|COUNTESS OF CHEST...|Paracetamol 500mg...|       0.0194|\n",
            "|COUNTY DURHAM AND...|Paracetamol 500mg...|       0.0195|\n",
            "|CUMBRIANORTHUMBER...|Paracetamol 500mg...|       0.0195|\n",
            "|DARTFORD AND GRAV...|Paracetamol 500mg...|       0.0195|\n",
            "|DEVON PARTNERSHIP...|Paracetamol 500mg...|       0.0193|\n",
            "|DONCASTER AND BAS...|Paracetamol 500mg...|         0.02|\n",
            "|DORSET COUNTY HOS...|Paracetamol 500mg...|       0.0194|\n",
            "|DORSET HEALTHCARE...|Paracetamol 500mg...|       0.0195|\n",
            "|EAST KENT HOSPITA...|Paracetamol 500mg...|       0.0196|\n",
            "+--------------------+--------------------+-------------+\n",
            "only showing top 20 rows\n",
            "\n"
          ]
        }
      ],
      "source": [
        "# Configuration\n",
        "input_table = \"monthly_hospital_data_oct24\"\n",
        "output_table = \"max_unit_cost_oct24_20250130\"\n",
        "\n",
        "# Input data\n",
        "input_df = spark.table(input_table)\n",
        "\n",
        "# Select columns of interest and rename\n",
        "selected_cols = [\n",
        "    F.col(\"HOSPITAL TRUST\").alias(\"HOSPITAL_TRUST\"),\n",
        "    F.col(\"BNF NAME\").alias(\"BNF_NAME\"),\n",
        "    F.col(\"TOTAL NIC\").alias(\"TOTAL_NIC\"),\n",
        "    F.col(\"TOTAL QUANTITY\").alias(\"TOTAL_QUANTITY\"),\n",
        "]\n",
        "selected_df = input_df.select(selected_cols)\n",
        "\n",
        "# Derive unit cost\n",
        "unit_cost_col = F.round(F.col(\"TOTAL_NIC\") / F.col(\"TOTAL_QUANTITY\"), 4)\n",
        "derived_df = selected_df.withColumn(\"UNIT_COST\", unit_cost_col)\n",
        "\n",
        "# Filter on BNF\n",
        "bnf_condition_col = F.col(\"BNF_NAME\").like(\"%Paracetamol 500mg tablets%\")\n",
        "filtered_df = derived_df.filter(bnf_condition_col)\n",
        "\n",
        "# Group by HOSPITAL, BNF and max UNIT_COST\n",
        "group_cols = [\n",
        "    \"HOSPITAL_TRUST\",\n",
        "    \"BNF_NAME\",\n",
        "]\n",
        "agg_cols = [\n",
        "    F.max(\"UNIT_COST\").alias(\"MAX_UNIT_COST\")\n",
        "]\n",
        "aggregated_df = filtered_df.groupBy(group_cols).agg(*agg_cols)\n",
        "\n",
        "# Write outputs\n",
        "aggregated_df.write.saveAsTable(output_table, mode=\"overwrite\")\n",
        "\n",
        "# Show outputs (ordered)\n",
        "(\n",
        "    spark\n",
        "    .table(output_table)\n",
        "    .orderBy(\"HOSPITAL_TRUST\", \"BNF_NAME\")\n",
        "    .show()\n",
        ")"
      ]
    },
    {
      "cell_type": "markdown",
      "metadata": {
        "id": "30QXr0w6km2Y"
      },
      "source": [
        "## Takeaways\n",
        "\n",
        "### Key Takeaways\n",
        "- Spark is a technology for processing and transforming data at scale\n",
        "- Spark works by distributing work over a cluster of computers, or nodes.\n",
        "- You can interact with Spark through a number of APIs including PySpark (Python) and Spark SQL\n",
        "- We showed how to perform some of the fundamental operations in transforming data using PySpark and Spark SQL\n",
        "- And we built an example pipeline using what we've learned!\n",
        "\n",
        "## Additional Resources\n",
        "- [Apache Spark Documentation](https://spark.apache.org/docs/latest/)\n",
        "- [PySpark API Reference](https://spark.apache.org/docs/latest/api/python/index.html)\n",
        "- [Microsoft Fabric Training](https://learn.microsoft.com/en-us/training/modules/use-apache-spark-work-files-lakehouse/)\n",
        "- [Palantir Style Guide](https://github.com/palantir/pyspark-style-guide)\n"
      ]
    }
  ],
  "metadata": {
    "colab": {
      "provenance": []
    },
    "kernelspec": {
      "display_name": "Python 3",
      "name": "python3"
    },
    "language_info": {
      "name": "python"
    }
  },
  "nbformat": 4,
  "nbformat_minor": 0
}
